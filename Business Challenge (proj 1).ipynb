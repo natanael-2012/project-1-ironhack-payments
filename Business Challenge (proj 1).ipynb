{
 "cells": [
  {
   "cell_type": "markdown",
   "metadata": {},
   "source": [
    "# Business Challenge: Cohort Analysis for Ironhack Payments (Project 1)\n",
    "Ginosca Alejandro, Dan Bigman, Paola Rivera, Natanael Santiago"
   ]
  },
  {
   "cell_type": "markdown",
   "metadata": {},
   "source": [
    "## Project Overview\n",
    "In this project, you will conduct a comprehensive cohort analysis based on data provided by IronHack Payments. The main objective is to analyze user cohorts defined by the month of creation of their first cash advance. You will track the monthly evolution of key metrics for these cohorts, enabling IronHack Payments to gain valuable insights into user behavior and the performance of their financial services."
   ]
  },
  {
   "cell_type": "code",
   "execution_count": 17,
   "metadata": {},
   "outputs": [],
   "source": [
    "import pandas as pd \n",
    "import seaborn as sns\n",
    "import matplotlib.pyplot as plt"
   ]
  },
  {
   "cell_type": "markdown",
   "metadata": {},
   "source": [
    "First, we load the csv files as pandas dataframes"
   ]
  },
  {
   "cell_type": "code",
   "execution_count": 18,
   "metadata": {},
   "outputs": [],
   "source": [
    "cash_request_df = pd.read_csv(\"./project_dataset/extract - cash request - data analyst.csv\")\n",
    "fees_df = pd.read_csv(\"project_dataset/extract - fees - data analyst - .csv\")\n",
    "\n",
    "# cash_request_df = pd.read_csv(\"extract - cash request - data analyst.csv\")\n",
    "# fees_df = pd.read_csv(\"extract - fees - data analyst - .csv\")"
   ]
  },
  {
   "cell_type": "markdown",
   "metadata": {},
   "source": [
    "### Data exploration"
   ]
  },
  {
   "cell_type": "markdown",
   "metadata": {},
   "source": [
    "#### Cash Requests\n",
    "We begin by exploring the cash request table"
   ]
  },
  {
   "cell_type": "code",
   "execution_count": 19,
   "metadata": {},
   "outputs": [
    {
     "data": {
      "text/html": [
       "<div>\n",
       "<style scoped>\n",
       "    .dataframe tbody tr th:only-of-type {\n",
       "        vertical-align: middle;\n",
       "    }\n",
       "\n",
       "    .dataframe tbody tr th {\n",
       "        vertical-align: top;\n",
       "    }\n",
       "\n",
       "    .dataframe thead th {\n",
       "        text-align: right;\n",
       "    }\n",
       "</style>\n",
       "<table border=\"1\" class=\"dataframe\">\n",
       "  <thead>\n",
       "    <tr style=\"text-align: right;\">\n",
       "      <th></th>\n",
       "      <th>id</th>\n",
       "      <th>amount</th>\n",
       "      <th>status</th>\n",
       "      <th>created_at</th>\n",
       "      <th>updated_at</th>\n",
       "      <th>user_id</th>\n",
       "      <th>moderated_at</th>\n",
       "      <th>deleted_account_id</th>\n",
       "      <th>reimbursement_date</th>\n",
       "      <th>cash_request_received_date</th>\n",
       "      <th>money_back_date</th>\n",
       "      <th>transfer_type</th>\n",
       "      <th>send_at</th>\n",
       "      <th>recovery_status</th>\n",
       "      <th>reco_creation</th>\n",
       "      <th>reco_last_update</th>\n",
       "    </tr>\n",
       "  </thead>\n",
       "  <tbody>\n",
       "    <tr>\n",
       "      <th>0</th>\n",
       "      <td>5</td>\n",
       "      <td>100.0</td>\n",
       "      <td>rejected</td>\n",
       "      <td>2019-12-10 19:05:21.596873+00</td>\n",
       "      <td>2019-12-11 16:47:42.40783+00</td>\n",
       "      <td>804.0</td>\n",
       "      <td>2019-12-11 16:47:42.405646+00</td>\n",
       "      <td>NaN</td>\n",
       "      <td>2020-01-09 19:05:21.596363+00</td>\n",
       "      <td>NaN</td>\n",
       "      <td>NaN</td>\n",
       "      <td>regular</td>\n",
       "      <td>NaN</td>\n",
       "      <td>NaN</td>\n",
       "      <td>NaN</td>\n",
       "      <td>NaN</td>\n",
       "    </tr>\n",
       "    <tr>\n",
       "      <th>1</th>\n",
       "      <td>70</td>\n",
       "      <td>100.0</td>\n",
       "      <td>rejected</td>\n",
       "      <td>2019-12-10 19:50:12.34778+00</td>\n",
       "      <td>2019-12-11 14:24:22.900054+00</td>\n",
       "      <td>231.0</td>\n",
       "      <td>2019-12-11 14:24:22.897988+00</td>\n",
       "      <td>NaN</td>\n",
       "      <td>2020-01-09 19:50:12.34778+00</td>\n",
       "      <td>NaN</td>\n",
       "      <td>NaN</td>\n",
       "      <td>regular</td>\n",
       "      <td>NaN</td>\n",
       "      <td>NaN</td>\n",
       "      <td>NaN</td>\n",
       "      <td>NaN</td>\n",
       "    </tr>\n",
       "    <tr>\n",
       "      <th>2</th>\n",
       "      <td>7</td>\n",
       "      <td>100.0</td>\n",
       "      <td>rejected</td>\n",
       "      <td>2019-12-10 19:13:35.82546+00</td>\n",
       "      <td>2019-12-11 09:46:59.779773+00</td>\n",
       "      <td>191.0</td>\n",
       "      <td>2019-12-11 09:46:59.777728+00</td>\n",
       "      <td>NaN</td>\n",
       "      <td>2020-01-09 19:13:35.825041+00</td>\n",
       "      <td>NaN</td>\n",
       "      <td>NaN</td>\n",
       "      <td>regular</td>\n",
       "      <td>NaN</td>\n",
       "      <td>NaN</td>\n",
       "      <td>NaN</td>\n",
       "      <td>NaN</td>\n",
       "    </tr>\n",
       "    <tr>\n",
       "      <th>3</th>\n",
       "      <td>10</td>\n",
       "      <td>99.0</td>\n",
       "      <td>rejected</td>\n",
       "      <td>2019-12-10 19:16:10.880172+00</td>\n",
       "      <td>2019-12-18 14:26:18.136163+00</td>\n",
       "      <td>761.0</td>\n",
       "      <td>2019-12-18 14:26:18.128407+00</td>\n",
       "      <td>NaN</td>\n",
       "      <td>2020-01-09 19:16:10.879606+00</td>\n",
       "      <td>NaN</td>\n",
       "      <td>NaN</td>\n",
       "      <td>regular</td>\n",
       "      <td>NaN</td>\n",
       "      <td>NaN</td>\n",
       "      <td>NaN</td>\n",
       "      <td>NaN</td>\n",
       "    </tr>\n",
       "    <tr>\n",
       "      <th>4</th>\n",
       "      <td>1594</td>\n",
       "      <td>100.0</td>\n",
       "      <td>rejected</td>\n",
       "      <td>2020-05-06 09:59:38.877376+00</td>\n",
       "      <td>2020-05-07 09:21:55.34008+00</td>\n",
       "      <td>7686.0</td>\n",
       "      <td>2020-05-07 09:21:55.320193+00</td>\n",
       "      <td>NaN</td>\n",
       "      <td>2020-06-05 22:00:00+00</td>\n",
       "      <td>NaN</td>\n",
       "      <td>NaN</td>\n",
       "      <td>regular</td>\n",
       "      <td>NaN</td>\n",
       "      <td>NaN</td>\n",
       "      <td>NaN</td>\n",
       "      <td>NaN</td>\n",
       "    </tr>\n",
       "  </tbody>\n",
       "</table>\n",
       "</div>"
      ],
      "text/plain": [
       "     id  amount    status                     created_at  \\\n",
       "0     5   100.0  rejected  2019-12-10 19:05:21.596873+00   \n",
       "1    70   100.0  rejected   2019-12-10 19:50:12.34778+00   \n",
       "2     7   100.0  rejected   2019-12-10 19:13:35.82546+00   \n",
       "3    10    99.0  rejected  2019-12-10 19:16:10.880172+00   \n",
       "4  1594   100.0  rejected  2020-05-06 09:59:38.877376+00   \n",
       "\n",
       "                      updated_at  user_id                   moderated_at  \\\n",
       "0   2019-12-11 16:47:42.40783+00    804.0  2019-12-11 16:47:42.405646+00   \n",
       "1  2019-12-11 14:24:22.900054+00    231.0  2019-12-11 14:24:22.897988+00   \n",
       "2  2019-12-11 09:46:59.779773+00    191.0  2019-12-11 09:46:59.777728+00   \n",
       "3  2019-12-18 14:26:18.136163+00    761.0  2019-12-18 14:26:18.128407+00   \n",
       "4   2020-05-07 09:21:55.34008+00   7686.0  2020-05-07 09:21:55.320193+00   \n",
       "\n",
       "   deleted_account_id             reimbursement_date  \\\n",
       "0                 NaN  2020-01-09 19:05:21.596363+00   \n",
       "1                 NaN   2020-01-09 19:50:12.34778+00   \n",
       "2                 NaN  2020-01-09 19:13:35.825041+00   \n",
       "3                 NaN  2020-01-09 19:16:10.879606+00   \n",
       "4                 NaN         2020-06-05 22:00:00+00   \n",
       "\n",
       "  cash_request_received_date money_back_date transfer_type send_at  \\\n",
       "0                        NaN             NaN       regular     NaN   \n",
       "1                        NaN             NaN       regular     NaN   \n",
       "2                        NaN             NaN       regular     NaN   \n",
       "3                        NaN             NaN       regular     NaN   \n",
       "4                        NaN             NaN       regular     NaN   \n",
       "\n",
       "  recovery_status reco_creation reco_last_update  \n",
       "0             NaN           NaN              NaN  \n",
       "1             NaN           NaN              NaN  \n",
       "2             NaN           NaN              NaN  \n",
       "3             NaN           NaN              NaN  \n",
       "4             NaN           NaN              NaN  "
      ]
     },
     "metadata": {},
     "output_type": "display_data"
    },
    {
     "name": "stdout",
     "output_type": "stream",
     "text": [
      "<class 'pandas.core.frame.DataFrame'>\n",
      "RangeIndex: 23970 entries, 0 to 23969\n",
      "Data columns (total 16 columns):\n",
      " #   Column                      Non-Null Count  Dtype  \n",
      "---  ------                      --------------  -----  \n",
      " 0   id                          23970 non-null  int64  \n",
      " 1   amount                      23970 non-null  float64\n",
      " 2   status                      23970 non-null  object \n",
      " 3   created_at                  23970 non-null  object \n",
      " 4   updated_at                  23970 non-null  object \n",
      " 5   user_id                     21867 non-null  float64\n",
      " 6   moderated_at                16035 non-null  object \n",
      " 7   deleted_account_id          2104 non-null   float64\n",
      " 8   reimbursement_date          23970 non-null  object \n",
      " 9   cash_request_received_date  16289 non-null  object \n",
      " 10  money_back_date             16543 non-null  object \n",
      " 11  transfer_type               23970 non-null  object \n",
      " 12  send_at                     16641 non-null  object \n",
      " 13  recovery_status             3330 non-null   object \n",
      " 14  reco_creation               3330 non-null   object \n",
      " 15  reco_last_update            3330 non-null   object \n",
      "dtypes: float64(3), int64(1), object(12)\n",
      "memory usage: 2.9+ MB\n"
     ]
    },
    {
     "data": {
      "text/plain": [
       "None"
      ]
     },
     "metadata": {},
     "output_type": "display_data"
    },
    {
     "data": {
      "text/html": [
       "<div>\n",
       "<style scoped>\n",
       "    .dataframe tbody tr th:only-of-type {\n",
       "        vertical-align: middle;\n",
       "    }\n",
       "\n",
       "    .dataframe tbody tr th {\n",
       "        vertical-align: top;\n",
       "    }\n",
       "\n",
       "    .dataframe thead th {\n",
       "        text-align: right;\n",
       "    }\n",
       "</style>\n",
       "<table border=\"1\" class=\"dataframe\">\n",
       "  <thead>\n",
       "    <tr style=\"text-align: right;\">\n",
       "      <th></th>\n",
       "      <th>id</th>\n",
       "      <th>amount</th>\n",
       "      <th>user_id</th>\n",
       "      <th>deleted_account_id</th>\n",
       "    </tr>\n",
       "  </thead>\n",
       "  <tbody>\n",
       "    <tr>\n",
       "      <th>count</th>\n",
       "      <td>23970.000000</td>\n",
       "      <td>23970.000000</td>\n",
       "      <td>21867.000000</td>\n",
       "      <td>2104.000000</td>\n",
       "    </tr>\n",
       "    <tr>\n",
       "      <th>mean</th>\n",
       "      <td>13910.966124</td>\n",
       "      <td>82.720818</td>\n",
       "      <td>32581.250789</td>\n",
       "      <td>9658.755228</td>\n",
       "    </tr>\n",
       "    <tr>\n",
       "      <th>std</th>\n",
       "      <td>7788.117214</td>\n",
       "      <td>26.528065</td>\n",
       "      <td>27618.565773</td>\n",
       "      <td>7972.743249</td>\n",
       "    </tr>\n",
       "    <tr>\n",
       "      <th>min</th>\n",
       "      <td>3.000000</td>\n",
       "      <td>1.000000</td>\n",
       "      <td>34.000000</td>\n",
       "      <td>91.000000</td>\n",
       "    </tr>\n",
       "    <tr>\n",
       "      <th>25%</th>\n",
       "      <td>7427.250000</td>\n",
       "      <td>50.000000</td>\n",
       "      <td>10804.000000</td>\n",
       "      <td>3767.000000</td>\n",
       "    </tr>\n",
       "    <tr>\n",
       "      <th>50%</th>\n",
       "      <td>14270.500000</td>\n",
       "      <td>100.000000</td>\n",
       "      <td>23773.000000</td>\n",
       "      <td>6121.500000</td>\n",
       "    </tr>\n",
       "    <tr>\n",
       "      <th>75%</th>\n",
       "      <td>20607.750000</td>\n",
       "      <td>100.000000</td>\n",
       "      <td>46965.000000</td>\n",
       "      <td>16345.000000</td>\n",
       "    </tr>\n",
       "    <tr>\n",
       "      <th>max</th>\n",
       "      <td>27010.000000</td>\n",
       "      <td>200.000000</td>\n",
       "      <td>103719.000000</td>\n",
       "      <td>30445.000000</td>\n",
       "    </tr>\n",
       "  </tbody>\n",
       "</table>\n",
       "</div>"
      ],
      "text/plain": [
       "                 id        amount        user_id  deleted_account_id\n",
       "count  23970.000000  23970.000000   21867.000000         2104.000000\n",
       "mean   13910.966124     82.720818   32581.250789         9658.755228\n",
       "std     7788.117214     26.528065   27618.565773         7972.743249\n",
       "min        3.000000      1.000000      34.000000           91.000000\n",
       "25%     7427.250000     50.000000   10804.000000         3767.000000\n",
       "50%    14270.500000    100.000000   23773.000000         6121.500000\n",
       "75%    20607.750000    100.000000   46965.000000        16345.000000\n",
       "max    27010.000000    200.000000  103719.000000        30445.000000"
      ]
     },
     "metadata": {},
     "output_type": "display_data"
    }
   ],
   "source": [
    "display(cash_request_df.head())\n",
    "display(cash_request_df.info())\n",
    "display(cash_request_df.describe())"
   ]
  },
  {
   "cell_type": "markdown",
   "metadata": {},
   "source": [
    "`cash.head()` shows us the columns in the table as well as the first 5 elements. We observe that there are many data types in this table as well as many NaN's, mainly on dates. \n",
    "\n",
    "`cash.info()` shows us more information. The table contains 23970 entries, from 0 to 23969. We also observe the data type for each column and NaN's per column. Columns `id`, `amount`, `status`, `created_at`, `updated_at`,  `reimbursement_date`, and ` transfer_type` do not contain empty values.\n",
    "\n",
    "`cash.describe()` does not provide us with much relevant information, except for the `amount` column. "
   ]
  },
  {
   "cell_type": "markdown",
   "metadata": {},
   "source": [
    "To continue understanding the data, we then observe the categorical values in  the `transfer_type` and `status` columns and the ocurrences for each value. "
   ]
  },
  {
   "cell_type": "code",
   "execution_count": 20,
   "metadata": {},
   "outputs": [
    {
     "data": {
      "text/plain": [
       "transfer_type\n",
       "instant    13882\n",
       "regular    10088\n",
       "Name: count, dtype: int64"
      ]
     },
     "metadata": {},
     "output_type": "display_data"
    },
    {
     "data": {
      "text/plain": [
       "status\n",
       "money_back               16397\n",
       "rejected                  6568\n",
       "direct_debit_rejected      831\n",
       "active                      59\n",
       "transaction_declined        48\n",
       "direct_debit_sent           34\n",
       "canceled                    33\n",
       "Name: count, dtype: int64"
      ]
     },
     "metadata": {},
     "output_type": "display_data"
    }
   ],
   "source": [
    "display(cash_request_df[\"transfer_type\"].value_counts())\n",
    "\n",
    "display(cash_request_df[\"status\"].value_counts())"
   ]
  },
  {
   "cell_type": "markdown",
   "metadata": {},
   "source": [
    "The [Excel sheet included with the .csv's](/project_dataset/Lexique%20-%20Data%20Analyst.xlsx) includes a description for the columns. In it, it specifies that the `deleted_account_id`, \"if a user delete their account, we are replacing the user_id by this id. It corresponds to a unique ID in the deleted account table with some keys information saved for fraud-fighting purposes (while respecting GDPR regulation)\". Since there were NaN's in the `user_id` field, we revise if these mising values are users who deleted their account. \n"
   ]
  },
  {
   "cell_type": "code",
   "execution_count": 21,
   "metadata": {},
   "outputs": [
    {
     "name": "stdout",
     "output_type": "stream",
     "text": [
      "Users with deleted accounts: 1141\n",
      "Users with active account:  10798\n",
      "Total users:  11939\n",
      "\n",
      "Is there actually a transaction without a user id?\n"
     ]
    },
    {
     "data": {
      "text/plain": [
       "user_id\n",
       "False    21867\n",
       "True      2103\n",
       "Name: count, dtype: int64"
      ]
     },
     "metadata": {},
     "output_type": "display_data"
    },
    {
     "data": {
      "text/plain": [
       "deleted_account_id\n",
       "True     21866\n",
       "False     2104\n",
       "Name: count, dtype: int64"
      ]
     },
     "metadata": {},
     "output_type": "display_data"
    },
    {
     "name": "stdout",
     "output_type": "stream",
     "text": [
      "Values between user id and deleted user id are incongruent by 1\n"
     ]
    },
    {
     "data": {
      "text/html": [
       "<div>\n",
       "<style scoped>\n",
       "    .dataframe tbody tr th:only-of-type {\n",
       "        vertical-align: middle;\n",
       "    }\n",
       "\n",
       "    .dataframe tbody tr th {\n",
       "        vertical-align: top;\n",
       "    }\n",
       "\n",
       "    .dataframe thead th {\n",
       "        text-align: right;\n",
       "    }\n",
       "</style>\n",
       "<table border=\"1\" class=\"dataframe\">\n",
       "  <thead>\n",
       "    <tr style=\"text-align: right;\">\n",
       "      <th></th>\n",
       "      <th>user_id</th>\n",
       "      <th>deleted_account_id</th>\n",
       "    </tr>\n",
       "  </thead>\n",
       "  <tbody>\n",
       "    <tr>\n",
       "      <th>7313</th>\n",
       "      <td>3161.0</td>\n",
       "      <td>262.0</td>\n",
       "    </tr>\n",
       "  </tbody>\n",
       "</table>\n",
       "</div>"
      ],
      "text/plain": [
       "      user_id  deleted_account_id\n",
       "7313   3161.0               262.0"
      ]
     },
     "metadata": {},
     "output_type": "display_data"
    },
    {
     "name": "stdout",
     "output_type": "stream",
     "text": [
      "one user has user_id and deleted_account_id\n"
     ]
    }
   ],
   "source": [
    "print(\"Users with deleted accounts:\",cash_request_df[\"deleted_account_id\"].nunique())\n",
    "print(\"Users with active account: \",cash_request_df[\"user_id\"].nunique())\n",
    "print(\"Total users: \", cash_request_df[\"user_id\"].nunique()+cash_request_df[\"deleted_account_id\"].nunique())\n",
    "\n",
    "print(\"\\nIs there actually a transaction without a user id?\")\n",
    "\n",
    "display(cash_request_df[\"user_id\"].isna().value_counts())\n",
    "display(cash_request_df[\"deleted_account_id\"].isna().value_counts())\n",
    "\n",
    "print(\"Values between user id and deleted user id are incongruent by 1\")\n",
    "\n",
    "cond3 = (cash_request_df[\"user_id\"].notna()) & (cash_request_df[\"deleted_account_id\"].notna())\n",
    "display(cash_request_df[cond3][[\"user_id\", \"deleted_account_id\"]])\n",
    "\n",
    "print(\"one user has user_id and deleted_account_id\")"
   ]
  },
  {
   "cell_type": "markdown",
   "metadata": {},
   "source": [
    "We check all the user ids and deleted user ids by counting them once. There are less users than lines in the table, so this lets us know that there are various users who have requested cash more than once. \n",
    "\n",
    "When comparing NaN's between `user_id` and `deleted_account_id`, we observe that the missing `user_id`s are almost the same as the `deleted_account_id`, and vice versa, except for one value. There is a user that has both `user_id` and `deleted_account_id`. We did not delete this value because it does not affect with the cohorts \"creation\".\n"
   ]
  },
  {
   "cell_type": "markdown",
   "metadata": {},
   "source": [
    "#### Fees\n",
    "Now, exploring the fees dataframe, we observe the first 5 lines in the table with its columns. We also see its info to know if there are NaNs and in which columns. `id`, `type`, `status`, `total_amount`, `reason`, `created_at`, and `updated_at` do not have NaNs. `cash_request_id` has 4 NaNs, and we need this column to join it with the cash request table. When merged, these 4 lines will not be considered. "
   ]
  },
  {
   "cell_type": "code",
   "execution_count": 22,
   "metadata": {},
   "outputs": [
    {
     "data": {
      "text/html": [
       "<div>\n",
       "<style scoped>\n",
       "    .dataframe tbody tr th:only-of-type {\n",
       "        vertical-align: middle;\n",
       "    }\n",
       "\n",
       "    .dataframe tbody tr th {\n",
       "        vertical-align: top;\n",
       "    }\n",
       "\n",
       "    .dataframe thead th {\n",
       "        text-align: right;\n",
       "    }\n",
       "</style>\n",
       "<table border=\"1\" class=\"dataframe\">\n",
       "  <thead>\n",
       "    <tr style=\"text-align: right;\">\n",
       "      <th></th>\n",
       "      <th>id</th>\n",
       "      <th>cash_request_id</th>\n",
       "      <th>type</th>\n",
       "      <th>status</th>\n",
       "      <th>category</th>\n",
       "      <th>total_amount</th>\n",
       "      <th>reason</th>\n",
       "      <th>created_at</th>\n",
       "      <th>updated_at</th>\n",
       "      <th>paid_at</th>\n",
       "      <th>from_date</th>\n",
       "      <th>to_date</th>\n",
       "      <th>charge_moment</th>\n",
       "    </tr>\n",
       "  </thead>\n",
       "  <tbody>\n",
       "    <tr>\n",
       "      <th>0</th>\n",
       "      <td>6537</td>\n",
       "      <td>14941.0</td>\n",
       "      <td>instant_payment</td>\n",
       "      <td>rejected</td>\n",
       "      <td>NaN</td>\n",
       "      <td>5.0</td>\n",
       "      <td>Instant Payment Cash Request 14941</td>\n",
       "      <td>2020-09-07 10:47:27.42315+00</td>\n",
       "      <td>2020-10-13 14:25:09.396112+00</td>\n",
       "      <td>2020-12-17 14:50:07.47011+00</td>\n",
       "      <td>NaN</td>\n",
       "      <td>NaN</td>\n",
       "      <td>after</td>\n",
       "    </tr>\n",
       "    <tr>\n",
       "      <th>1</th>\n",
       "      <td>6961</td>\n",
       "      <td>11714.0</td>\n",
       "      <td>incident</td>\n",
       "      <td>accepted</td>\n",
       "      <td>rejected_direct_debit</td>\n",
       "      <td>5.0</td>\n",
       "      <td>rejected direct debit</td>\n",
       "      <td>2020-09-09 20:51:17.998653+00</td>\n",
       "      <td>2020-10-13 14:25:15.537063+00</td>\n",
       "      <td>2020-12-08 17:13:10.45908+00</td>\n",
       "      <td>NaN</td>\n",
       "      <td>NaN</td>\n",
       "      <td>after</td>\n",
       "    </tr>\n",
       "    <tr>\n",
       "      <th>2</th>\n",
       "      <td>16296</td>\n",
       "      <td>23371.0</td>\n",
       "      <td>instant_payment</td>\n",
       "      <td>accepted</td>\n",
       "      <td>NaN</td>\n",
       "      <td>5.0</td>\n",
       "      <td>Instant Payment Cash Request 23371</td>\n",
       "      <td>2020-10-23 10:10:58.352972+00</td>\n",
       "      <td>2020-10-23 10:10:58.352994+00</td>\n",
       "      <td>2020-11-04 19:34:37.43291+00</td>\n",
       "      <td>NaN</td>\n",
       "      <td>NaN</td>\n",
       "      <td>after</td>\n",
       "    </tr>\n",
       "    <tr>\n",
       "      <th>3</th>\n",
       "      <td>20775</td>\n",
       "      <td>26772.0</td>\n",
       "      <td>instant_payment</td>\n",
       "      <td>accepted</td>\n",
       "      <td>NaN</td>\n",
       "      <td>5.0</td>\n",
       "      <td>Instant Payment Cash Request 26772</td>\n",
       "      <td>2020-10-31 15:46:53.643958+00</td>\n",
       "      <td>2020-10-31 15:46:53.643982+00</td>\n",
       "      <td>2020-11-19 05:09:22.500223+00</td>\n",
       "      <td>NaN</td>\n",
       "      <td>NaN</td>\n",
       "      <td>after</td>\n",
       "    </tr>\n",
       "    <tr>\n",
       "      <th>4</th>\n",
       "      <td>11242</td>\n",
       "      <td>19350.0</td>\n",
       "      <td>instant_payment</td>\n",
       "      <td>accepted</td>\n",
       "      <td>NaN</td>\n",
       "      <td>5.0</td>\n",
       "      <td>Instant Payment Cash Request 19350</td>\n",
       "      <td>2020-10-06 08:20:17.170432+00</td>\n",
       "      <td>2020-10-13 14:25:03.267983+00</td>\n",
       "      <td>2020-11-02 14:45:20.355598+00</td>\n",
       "      <td>NaN</td>\n",
       "      <td>NaN</td>\n",
       "      <td>after</td>\n",
       "    </tr>\n",
       "  </tbody>\n",
       "</table>\n",
       "</div>"
      ],
      "text/plain": [
       "      id  cash_request_id             type    status               category  \\\n",
       "0   6537          14941.0  instant_payment  rejected                    NaN   \n",
       "1   6961          11714.0         incident  accepted  rejected_direct_debit   \n",
       "2  16296          23371.0  instant_payment  accepted                    NaN   \n",
       "3  20775          26772.0  instant_payment  accepted                    NaN   \n",
       "4  11242          19350.0  instant_payment  accepted                    NaN   \n",
       "\n",
       "   total_amount                              reason  \\\n",
       "0           5.0  Instant Payment Cash Request 14941   \n",
       "1           5.0               rejected direct debit   \n",
       "2           5.0  Instant Payment Cash Request 23371   \n",
       "3           5.0  Instant Payment Cash Request 26772   \n",
       "4           5.0  Instant Payment Cash Request 19350   \n",
       "\n",
       "                      created_at                     updated_at  \\\n",
       "0   2020-09-07 10:47:27.42315+00  2020-10-13 14:25:09.396112+00   \n",
       "1  2020-09-09 20:51:17.998653+00  2020-10-13 14:25:15.537063+00   \n",
       "2  2020-10-23 10:10:58.352972+00  2020-10-23 10:10:58.352994+00   \n",
       "3  2020-10-31 15:46:53.643958+00  2020-10-31 15:46:53.643982+00   \n",
       "4  2020-10-06 08:20:17.170432+00  2020-10-13 14:25:03.267983+00   \n",
       "\n",
       "                         paid_at from_date to_date charge_moment  \n",
       "0   2020-12-17 14:50:07.47011+00       NaN     NaN         after  \n",
       "1   2020-12-08 17:13:10.45908+00       NaN     NaN         after  \n",
       "2   2020-11-04 19:34:37.43291+00       NaN     NaN         after  \n",
       "3  2020-11-19 05:09:22.500223+00       NaN     NaN         after  \n",
       "4  2020-11-02 14:45:20.355598+00       NaN     NaN         after  "
      ]
     },
     "metadata": {},
     "output_type": "display_data"
    },
    {
     "name": "stdout",
     "output_type": "stream",
     "text": [
      "<class 'pandas.core.frame.DataFrame'>\n",
      "RangeIndex: 21061 entries, 0 to 21060\n",
      "Data columns (total 13 columns):\n",
      " #   Column           Non-Null Count  Dtype  \n",
      "---  ------           --------------  -----  \n",
      " 0   id               21061 non-null  int64  \n",
      " 1   cash_request_id  21057 non-null  float64\n",
      " 2   type             21061 non-null  object \n",
      " 3   status           21061 non-null  object \n",
      " 4   category         2196 non-null   object \n",
      " 5   total_amount     21061 non-null  float64\n",
      " 6   reason           21061 non-null  object \n",
      " 7   created_at       21061 non-null  object \n",
      " 8   updated_at       21061 non-null  object \n",
      " 9   paid_at          15531 non-null  object \n",
      " 10  from_date        7766 non-null   object \n",
      " 11  to_date          7766 non-null   object \n",
      " 12  charge_moment    21061 non-null  object \n",
      "dtypes: float64(2), int64(1), object(10)\n",
      "memory usage: 2.1+ MB\n"
     ]
    },
    {
     "data": {
      "text/plain": [
       "None"
      ]
     },
     "metadata": {},
     "output_type": "display_data"
    }
   ],
   "source": [
    "display(fees_df.head())\n",
    "display(fees_df.info())"
   ]
  },
  {
   "cell_type": "markdown",
   "metadata": {},
   "source": [
    "### Data Cleaning and Formatting"
   ]
  },
  {
   "cell_type": "markdown",
   "metadata": {},
   "source": [
    "Firstly, we convert the date columns, which are stored as a string in the dataframe, to actual date format (ISO 8601)"
   ]
  },
  {
   "cell_type": "code",
   "execution_count": 23,
   "metadata": {},
   "outputs": [],
   "source": [
    "# Converting date columns to datetime format in cash_request_df\n",
    "cash_request_df['created_at'] = pd.to_datetime(cash_request_df['created_at'])\n",
    "cash_request_df['updated_at'] = pd.to_datetime(cash_request_df['updated_at'])\n",
    "cash_request_df['moderated_at'] = pd.to_datetime(cash_request_df['moderated_at'], errors='coerce')\n",
    "cash_request_df['reimbursement_date'] = pd.to_datetime(cash_request_df['reimbursement_date'], errors='coerce', utc=True)\n",
    "cash_request_df['cash_request_received_date'] = pd.to_datetime(cash_request_df['cash_request_received_date'], errors='coerce')  # Handle invalid dates\n",
    "cash_request_df['money_back_date'] = pd.to_datetime(cash_request_df['money_back_date'], errors='coerce')\n",
    "cash_request_df['send_at'] = pd.to_datetime(cash_request_df['send_at'], errors='coerce')\n",
    "cash_request_df['reco_creation'] = pd.to_datetime(cash_request_df['reco_creation'], errors='coerce')\n",
    "cash_request_df['reco_last_update'] = pd.to_datetime(cash_request_df['reco_last_update'], errors='coerce')"
   ]
  },
  {
   "cell_type": "code",
   "execution_count": 24,
   "metadata": {},
   "outputs": [],
   "source": [
    "# Converting date columns to datetime format in fees_df\n",
    "fees_df['created_at'] = pd.to_datetime(fees_df['created_at'])\n",
    "fees_df['updated_at'] = pd.to_datetime(fees_df['updated_at'])\n",
    "fees_df['paid_at'] = pd.to_datetime(fees_df['paid_at'], errors='coerce')  # Handle invalid dates\n",
    "fees_df['from_date'] = pd.to_datetime(fees_df['from_date'], errors='coerce')\n",
    "fees_df['to_date'] = pd.to_datetime(fees_df['to_date'], errors='coerce')"
   ]
  },
  {
   "cell_type": "markdown",
   "metadata": {},
   "source": [
    "Then we check if there are duplicates in `cash_request_df` and `fees_df`. We also checked the missing values for each column in both dataframes. "
   ]
  },
  {
   "cell_type": "code",
   "execution_count": 25,
   "metadata": {},
   "outputs": [
    {
     "name": "stdout",
     "output_type": "stream",
     "text": [
      "0\n",
      "0\n"
     ]
    }
   ],
   "source": [
    "# Check for duplicates in cash_request_df\n",
    "print(cash_request_df.duplicated().sum())\n",
    "\n",
    "# Check for duplicates in fees_df\n",
    "print(fees_df.duplicated().sum())\n"
   ]
  },
  {
   "cell_type": "code",
   "execution_count": 26,
   "metadata": {},
   "outputs": [
    {
     "name": "stdout",
     "output_type": "stream",
     "text": [
      "id                                0\n",
      "amount                            0\n",
      "status                            0\n",
      "created_at                        0\n",
      "updated_at                        0\n",
      "user_id                        2103\n",
      "moderated_at                   8058\n",
      "deleted_account_id            21866\n",
      "reimbursement_date            20920\n",
      "cash_request_received_date     7681\n",
      "money_back_date               11930\n",
      "transfer_type                     0\n",
      "send_at                        7504\n",
      "recovery_status               20640\n",
      "reco_creation                 20640\n",
      "reco_last_update              20640\n",
      "dtype: int64\n",
      "id                     0\n",
      "cash_request_id        4\n",
      "type                   0\n",
      "status                 0\n",
      "category           18865\n",
      "total_amount           0\n",
      "reason                 0\n",
      "created_at             0\n",
      "updated_at             0\n",
      "paid_at             5623\n",
      "from_date          14312\n",
      "to_date            14549\n",
      "charge_moment          0\n",
      "dtype: int64\n"
     ]
    }
   ],
   "source": [
    "# Check missing values in both datasets\n",
    "print(cash_request_df.isnull().sum())  # Check for missing values in cash_request_df\n",
    "print(fees_df.isnull().sum())  # Check for missing values in fees_df"
   ]
  },
  {
   "cell_type": "markdown",
   "metadata": {},
   "source": [
    "Deciding to Fill or Drop Missing Values in Other Columns (in `cash_request_df`, code box below):\n",
    "\n",
    "1. moderated_at:\n",
    "\n",
    "    * Purpose: This column likely represents when a request was moderated. While important for understanding processing timing, it is not critical for defining cohorts or tracking service usage frequency.\n",
    "\n",
    "    * Decision: Fill with NaT (Not a Time). This ensures that users without a moderation date can still be included in the analysis without disrupting cohort creation.\n",
    "\n",
    "2. reimbursement_date:\n",
    "\n",
    "    * Purpose: This date likely tracks when a user was reimbursed. While it is important for understanding the lifecycle of a cash advance, it does not affect cohort creation or the frequency of service usage.\n",
    "\n",
    "    * Decision: Fill with NaT. If a reimbursement hasn't occurred yet, it’s fine to treat missing values as NaT without removing the row.\n",
    "\n",
    "3. money_back_date:\n",
    "\n",
    "    * Purpose: This column likely tracks when a user paid back the loan or cash advance. While important for analyzing repayment behavior, it is not related to cohort creation.\n",
    "\n",
    "    * Decision: Fill with NaT. If the repayment date is missing, it can be treated as NaT without affecting the analysis of the cohorts or the frequency of service usage.\n",
    "\n",
    "4. send_at:\n",
    "\n",
    "    * Purpose: This column likely tracks when the funds were sent. While relevant for understanding the full process of cash advances, it is not directly related to cohort definition or service usage frequency.\n",
    "\n",
    "    * Decision: Fill with NaT. If a send date is missing, it can be treated as NaT without affecting the overall analysis.\n",
    "\n",
    "Summary of Decisions for Handling Missing Data in cash_request_df:\n",
    "\n",
    "* Critical Columns for Cohort Creation:\n",
    "\n",
    "    * Drop rows with missing user_id and cash_request_received_date because they are essential for tracking cohorts.\n",
    "\n",
    "* Fill with NaT:\n",
    "\n",
    "    * For columns like moderated_at, reimbursement_date, money_back_date, and send_at, fill missing values with NaT. These columns do not affect the cohort definition but might be important for other analyses."
   ]
  },
  {
   "cell_type": "code",
   "execution_count": 27,
   "metadata": {},
   "outputs": [],
   "source": [
    "# Fill missing values in 'moderated_at' with NaT (Not a Time) to retain rows with missing moderation dates\n",
    "cash_request_df['moderated_at'] = cash_request_df['moderated_at'].fillna(pd.NaT)\n",
    "\n",
    "# Fill missing values in 'reimbursement_date' with NaT (Not a Time) to keep rows with missing reimbursement dates\n",
    "cash_request_df['reimbursement_date'] = cash_request_df['reimbursement_date'].fillna(pd.NaT)\n",
    "\n",
    "# Fill missing values in 'money_back_date' with NaT (Not a Time) for rows with no repayment date\n",
    "cash_request_df['money_back_date'] = cash_request_df['money_back_date'].fillna(pd.NaT)\n",
    "\n",
    "# Fill missing values in 'send_at' with NaT (Not a Time) to retain rows with missing send dates\n",
    "cash_request_df['send_at'] = cash_request_df['send_at'].fillna(pd.NaT)\n"
   ]
  },
  {
   "cell_type": "markdown",
   "metadata": {},
   "source": [
    "Deciding to Fill or Drop Missing Values in Other Columns (in `fees_df`):\n",
    "\n",
    "1. cash_request_id:\n",
    "\n",
    "    * Purpose: This column links each fee to a specific cash request. It’s essential for associating fees with requests.\n",
    "    * Decision: Drop rows with missing cash_request_id. Without a cash_request_id, a fee cannot be linked to a cash request, and thus, the data would be meaningless for analysis.\n",
    "\n",
    "2. category:\n",
    "\n",
    "    * Purpose: This column likely describes the reason for the fee (e.g., late fee, processing fee, etc.). It is important for understanding fee incidents and calculating the incident rate.\n",
    "\n",
    "    * Decision: Fill missing category values with \"Unknown\". Missing category values might indicate fees with unrecorded reasons. Filling with \"Unknown\" ensures that all rows are retained for analysis without losing information.\n",
    "\n",
    "3. paid_at:\n",
    "\n",
    "    * Purpose: This column represents when the fee was paid. It’s important for analyzing when fees were settled, but not necessarily for cohort definition.\n",
    "\n",
    "    * Decision: Fill missing paid_at values with NaT (Not a Time). Missing paid_at could indicate that the fee hasn’t been paid yet, so filling it with NaT ensures that the row stays in the dataset and can still be analyzed for incident rates and revenue, but without assuming it has been paid.\n",
    "\n",
    "4. from_date and to_date:\n",
    "\n",
    "    * Purpose: These columns likely represent the start and end date of the fee’s validity period. For analyzing fee periods or calculating durations, these dates are important.\n",
    "\n",
    "    * Decision: Fill missing from_date and to_date values with NaT. Missing dates could indicate an unknown period, but rather than dropping these rows, filling them with NaT ensures the data remains in the dataset and is not lost."
   ]
  },
  {
   "cell_type": "code",
   "execution_count": 28,
   "metadata": {},
   "outputs": [],
   "source": [
    "# Drop rows with missing cash_request_id because fees without a cash request are irrelevant\n",
    "fees_df = fees_df.dropna(subset=['cash_request_id'])\n",
    "\n",
    "# Fill missing category values with 'Unknown' because it helps retain all fees in the dataset\n",
    "fees_df['category'] = fees_df['category'].fillna('Unknown')\n",
    "\n",
    "# Fill missing paid_at values with NaT, as fees might not have been paid yet\n",
    "fees_df['paid_at'] = fees_df['paid_at'].fillna(pd.NaT)\n",
    "\n",
    "# Fill missing from_date and to_date with NaT, as missing dates might not affect the overall analysis\n",
    "fees_df['from_date'] = fees_df['from_date'].fillna(pd.NaT)\n",
    "fees_df['to_date'] = fees_df['to_date'].fillna(pd.NaT)\n"
   ]
  },
  {
   "cell_type": "markdown",
   "metadata": {},
   "source": [
    "#### Check"
   ]
  },
  {
   "cell_type": "markdown",
   "metadata": {},
   "source": [
    "Below we Check the first few rows to see if missing values were handled properly.\n",
    "\n",
    "* **The missing values in critical columns (user_id and cash_request_received_date) were successfully handled by dropping rows with missing values.**\n",
    "\n",
    "* Non-critical columns (e.g., moderated_at, reimbursement_date, money_back_date, send_at) were correctly filled with NaT, and no unexpected issues are visible.\n",
    "\n",
    "* The dataset is now ready for cohort definition and metric calculations."
   ]
  },
  {
   "cell_type": "code",
   "execution_count": 29,
   "metadata": {},
   "outputs": [
    {
     "name": "stdout",
     "output_type": "stream",
     "text": [
      "     id  amount    status                       created_at  \\\n",
      "0     5   100.0  rejected 2019-12-10 19:05:21.596873+00:00   \n",
      "1    70   100.0  rejected 2019-12-10 19:50:12.347780+00:00   \n",
      "2     7   100.0  rejected 2019-12-10 19:13:35.825460+00:00   \n",
      "3    10    99.0  rejected 2019-12-10 19:16:10.880172+00:00   \n",
      "4  1594   100.0  rejected 2020-05-06 09:59:38.877376+00:00   \n",
      "\n",
      "                        updated_at  user_id                     moderated_at  \\\n",
      "0 2019-12-11 16:47:42.407830+00:00    804.0 2019-12-11 16:47:42.405646+00:00   \n",
      "1 2019-12-11 14:24:22.900054+00:00    231.0 2019-12-11 14:24:22.897988+00:00   \n",
      "2 2019-12-11 09:46:59.779773+00:00    191.0 2019-12-11 09:46:59.777728+00:00   \n",
      "3 2019-12-18 14:26:18.136163+00:00    761.0 2019-12-18 14:26:18.128407+00:00   \n",
      "4 2020-05-07 09:21:55.340080+00:00   7686.0 2020-05-07 09:21:55.320193+00:00   \n",
      "\n",
      "   deleted_account_id               reimbursement_date  \\\n",
      "0                 NaN 2020-01-09 19:05:21.596363+00:00   \n",
      "1                 NaN 2020-01-09 19:50:12.347780+00:00   \n",
      "2                 NaN 2020-01-09 19:13:35.825041+00:00   \n",
      "3                 NaN 2020-01-09 19:16:10.879606+00:00   \n",
      "4                 NaN                              NaT   \n",
      "\n",
      "  cash_request_received_date money_back_date transfer_type send_at  \\\n",
      "0                        NaT             NaT       regular     NaT   \n",
      "1                        NaT             NaT       regular     NaT   \n",
      "2                        NaT             NaT       regular     NaT   \n",
      "3                        NaT             NaT       regular     NaT   \n",
      "4                        NaT             NaT       regular     NaT   \n",
      "\n",
      "  recovery_status reco_creation reco_last_update  \n",
      "0             NaN           NaT              NaT  \n",
      "1             NaN           NaT              NaT  \n",
      "2             NaN           NaT              NaT  \n",
      "3             NaN           NaT              NaT  \n",
      "4             NaN           NaT              NaT  \n"
     ]
    }
   ],
   "source": [
    "# Check the first few rows to see if missing values were handled properly\n",
    "print(cash_request_df.head())"
   ]
  },
  {
   "cell_type": "markdown",
   "metadata": {},
   "source": [
    "We do the same for `fees_df`. \n",
    "\n",
    "* The missing values in critical columns (e.g., cash_request_id and category) were handled correctly by dropping or filling them.\n",
    "\n",
    "* The non-critical date columns (paid_at, from_date, to_date) were filled with NaT, which is appropriate for handling missing dates.\n",
    "\n",
    "* The dataset is ready for further analysis, including cohort definition and calculation of key metrics."
   ]
  },
  {
   "cell_type": "code",
   "execution_count": 30,
   "metadata": {},
   "outputs": [
    {
     "name": "stdout",
     "output_type": "stream",
     "text": [
      "      id  cash_request_id             type    status               category  \\\n",
      "0   6537          14941.0  instant_payment  rejected                Unknown   \n",
      "1   6961          11714.0         incident  accepted  rejected_direct_debit   \n",
      "2  16296          23371.0  instant_payment  accepted                Unknown   \n",
      "3  20775          26772.0  instant_payment  accepted                Unknown   \n",
      "4  11242          19350.0  instant_payment  accepted                Unknown   \n",
      "\n",
      "   total_amount                              reason  \\\n",
      "0           5.0  Instant Payment Cash Request 14941   \n",
      "1           5.0               rejected direct debit   \n",
      "2           5.0  Instant Payment Cash Request 23371   \n",
      "3           5.0  Instant Payment Cash Request 26772   \n",
      "4           5.0  Instant Payment Cash Request 19350   \n",
      "\n",
      "                        created_at                       updated_at  \\\n",
      "0 2020-09-07 10:47:27.423150+00:00 2020-10-13 14:25:09.396112+00:00   \n",
      "1 2020-09-09 20:51:17.998653+00:00 2020-10-13 14:25:15.537063+00:00   \n",
      "2 2020-10-23 10:10:58.352972+00:00 2020-10-23 10:10:58.352994+00:00   \n",
      "3 2020-10-31 15:46:53.643958+00:00 2020-10-31 15:46:53.643982+00:00   \n",
      "4 2020-10-06 08:20:17.170432+00:00 2020-10-13 14:25:03.267983+00:00   \n",
      "\n",
      "                           paid_at from_date to_date charge_moment  \n",
      "0 2020-12-17 14:50:07.470110+00:00       NaT     NaT         after  \n",
      "1 2020-12-08 17:13:10.459080+00:00       NaT     NaT         after  \n",
      "2 2020-11-04 19:34:37.432910+00:00       NaT     NaT         after  \n",
      "3 2020-11-19 05:09:22.500223+00:00       NaT     NaT         after  \n",
      "4 2020-11-02 14:45:20.355598+00:00       NaT     NaT         after  \n"
     ]
    }
   ],
   "source": [
    "# Check the first few rows to see if missing values were handled properly\n",
    "print(fees_df.head())"
   ]
  },
  {
   "cell_type": "markdown",
   "metadata": {},
   "source": [
    "* The missing values in critical columns (e.g., cash_request_id and category) were handled correctly by dropping or filling them.\n",
    "\n",
    "* The non-critical date columns (paid_at, from_date, to_date) were filled with NaT, which is appropriate for handling missing dates.\n",
    "\n",
    "* The dataset is ready for further analysis, including cohort definition and calculation of key metrics."
   ]
  },
  {
   "cell_type": "markdown",
   "metadata": {},
   "source": [
    "### Cohorts\n",
    "The main objective is to analyze user cohorts defined by the month of creation of their first cash advance. We created the `cash2` dataframe, which is just a copy of the original dataframe. Then, we changed the datatype of `created_at` to a date format and identified the first cash request for each user, whether they had an active account or not. Each user was assigned to the cohort of the first month they used the service. \n",
    "\n",
    "Finally, we displayed the how many users belong to each cohort (sorted by quantity and not by date), revise that the dataframe has been modified correctly, and count that no record has been removed. "
   ]
  },
  {
   "cell_type": "markdown",
   "metadata": {},
   "source": [
    "The primary cohort definition is based on the month in which a user made their first cash request (cash_request_received_date).\n",
    "\n",
    "Cohort Grouping: Each user is assigned to a cohort based on the month they made their first cash advance request.\n",
    "\n",
    "* Example: If a user made their first request in January 2023, they belong to the January 2023 cohort.\n",
    "    \n",
    "* Another user who made their first request in February 2023 will belong to the February 2023 cohort.\n",
    "\n",
    "Why Cohorts are Important in This Project:\n",
    "\n",
    "1. **Frequency of Service Usage**: By analyzing cohorts over time, it’s possible to track how often users from each cohort utilize IronHack Payments' services.\n",
    "\n",
    "2. **Incident Rate**: Understanding how often payment incidents (e.g., payment failures) occur in each cohort helps assess whether certain cohorts have higher incident rates than others.\n",
    "\n",
    "3. **Revenue Generation**: Tracking the total revenue generated by each cohort helps assess the financial impact of different user groups over time.\n",
    "\n",
    "4. **New Relevant Metric**: A new metric (like user retention or churn) can be applied to cohorts to further analyze user behavior."
   ]
  },
  {
   "cell_type": "code",
   "execution_count": 31,
   "metadata": {},
   "outputs": [
    {
     "name": "stderr",
     "output_type": "stream",
     "text": [
      "C:\\Users\\Natanael\\AppData\\Local\\Temp\\ipykernel_14368\\604324560.py:12: UserWarning: Converting to PeriodArray/Index representation will drop timezone information.\n",
      "  cash2['first_cash_request'] = cash2['first_cash_request'].dt.to_period('M')\n"
     ]
    },
    {
     "data": {
      "text/plain": [
       "cohort_month\n",
       "2020-06    5266\n",
       "2020-10    5058\n",
       "2020-07    4147\n",
       "2020-09    2925\n",
       "2020-05    1660\n",
       "2020-08    1632\n",
       "2019-12    1080\n",
       "2020-04     952\n",
       "2020-02     441\n",
       "2020-03     371\n",
       "2020-01     354\n",
       "2020-11      76\n",
       "2019-11       8\n",
       "Freq: M, Name: count, dtype: int64"
      ]
     },
     "metadata": {},
     "output_type": "display_data"
    },
    {
     "data": {
      "text/html": [
       "<div>\n",
       "<style scoped>\n",
       "    .dataframe tbody tr th:only-of-type {\n",
       "        vertical-align: middle;\n",
       "    }\n",
       "\n",
       "    .dataframe tbody tr th {\n",
       "        vertical-align: top;\n",
       "    }\n",
       "\n",
       "    .dataframe thead th {\n",
       "        text-align: right;\n",
       "    }\n",
       "</style>\n",
       "<table border=\"1\" class=\"dataframe\">\n",
       "  <thead>\n",
       "    <tr style=\"text-align: right;\">\n",
       "      <th></th>\n",
       "      <th>id</th>\n",
       "      <th>amount</th>\n",
       "      <th>status</th>\n",
       "      <th>created_at</th>\n",
       "      <th>updated_at</th>\n",
       "      <th>user_id</th>\n",
       "      <th>moderated_at</th>\n",
       "      <th>deleted_account_id</th>\n",
       "      <th>reimbursement_date</th>\n",
       "      <th>cash_request_received_date</th>\n",
       "      <th>money_back_date</th>\n",
       "      <th>transfer_type</th>\n",
       "      <th>send_at</th>\n",
       "      <th>recovery_status</th>\n",
       "      <th>reco_creation</th>\n",
       "      <th>reco_last_update</th>\n",
       "      <th>identifier</th>\n",
       "      <th>first_cash_request</th>\n",
       "      <th>cohort_month</th>\n",
       "    </tr>\n",
       "  </thead>\n",
       "  <tbody>\n",
       "    <tr>\n",
       "      <th>0</th>\n",
       "      <td>5</td>\n",
       "      <td>100.0</td>\n",
       "      <td>rejected</td>\n",
       "      <td>2019-12-10 19:05:21.596873+00:00</td>\n",
       "      <td>2019-12-11 16:47:42.407830+00:00</td>\n",
       "      <td>804.0</td>\n",
       "      <td>2019-12-11 16:47:42.405646+00:00</td>\n",
       "      <td>NaN</td>\n",
       "      <td>2020-01-09 19:05:21.596363+00:00</td>\n",
       "      <td>NaT</td>\n",
       "      <td>NaT</td>\n",
       "      <td>regular</td>\n",
       "      <td>NaT</td>\n",
       "      <td>NaN</td>\n",
       "      <td>NaT</td>\n",
       "      <td>NaT</td>\n",
       "      <td>804.0</td>\n",
       "      <td>2019-12</td>\n",
       "      <td>2019-12</td>\n",
       "    </tr>\n",
       "    <tr>\n",
       "      <th>1</th>\n",
       "      <td>70</td>\n",
       "      <td>100.0</td>\n",
       "      <td>rejected</td>\n",
       "      <td>2019-12-10 19:50:12.347780+00:00</td>\n",
       "      <td>2019-12-11 14:24:22.900054+00:00</td>\n",
       "      <td>231.0</td>\n",
       "      <td>2019-12-11 14:24:22.897988+00:00</td>\n",
       "      <td>NaN</td>\n",
       "      <td>2020-01-09 19:50:12.347780+00:00</td>\n",
       "      <td>NaT</td>\n",
       "      <td>NaT</td>\n",
       "      <td>regular</td>\n",
       "      <td>NaT</td>\n",
       "      <td>NaN</td>\n",
       "      <td>NaT</td>\n",
       "      <td>NaT</td>\n",
       "      <td>231.0</td>\n",
       "      <td>2019-12</td>\n",
       "      <td>2019-12</td>\n",
       "    </tr>\n",
       "    <tr>\n",
       "      <th>2</th>\n",
       "      <td>7</td>\n",
       "      <td>100.0</td>\n",
       "      <td>rejected</td>\n",
       "      <td>2019-12-10 19:13:35.825460+00:00</td>\n",
       "      <td>2019-12-11 09:46:59.779773+00:00</td>\n",
       "      <td>191.0</td>\n",
       "      <td>2019-12-11 09:46:59.777728+00:00</td>\n",
       "      <td>NaN</td>\n",
       "      <td>2020-01-09 19:13:35.825041+00:00</td>\n",
       "      <td>NaT</td>\n",
       "      <td>NaT</td>\n",
       "      <td>regular</td>\n",
       "      <td>NaT</td>\n",
       "      <td>NaN</td>\n",
       "      <td>NaT</td>\n",
       "      <td>NaT</td>\n",
       "      <td>191.0</td>\n",
       "      <td>2019-12</td>\n",
       "      <td>2019-12</td>\n",
       "    </tr>\n",
       "    <tr>\n",
       "      <th>3</th>\n",
       "      <td>10</td>\n",
       "      <td>99.0</td>\n",
       "      <td>rejected</td>\n",
       "      <td>2019-12-10 19:16:10.880172+00:00</td>\n",
       "      <td>2019-12-18 14:26:18.136163+00:00</td>\n",
       "      <td>761.0</td>\n",
       "      <td>2019-12-18 14:26:18.128407+00:00</td>\n",
       "      <td>NaN</td>\n",
       "      <td>2020-01-09 19:16:10.879606+00:00</td>\n",
       "      <td>NaT</td>\n",
       "      <td>NaT</td>\n",
       "      <td>regular</td>\n",
       "      <td>NaT</td>\n",
       "      <td>NaN</td>\n",
       "      <td>NaT</td>\n",
       "      <td>NaT</td>\n",
       "      <td>761.0</td>\n",
       "      <td>2019-12</td>\n",
       "      <td>2019-12</td>\n",
       "    </tr>\n",
       "    <tr>\n",
       "      <th>4</th>\n",
       "      <td>1594</td>\n",
       "      <td>100.0</td>\n",
       "      <td>rejected</td>\n",
       "      <td>2020-05-06 09:59:38.877376+00:00</td>\n",
       "      <td>2020-05-07 09:21:55.340080+00:00</td>\n",
       "      <td>7686.0</td>\n",
       "      <td>2020-05-07 09:21:55.320193+00:00</td>\n",
       "      <td>NaN</td>\n",
       "      <td>NaT</td>\n",
       "      <td>NaT</td>\n",
       "      <td>NaT</td>\n",
       "      <td>regular</td>\n",
       "      <td>NaT</td>\n",
       "      <td>NaN</td>\n",
       "      <td>NaT</td>\n",
       "      <td>NaT</td>\n",
       "      <td>7686.0</td>\n",
       "      <td>2020-05</td>\n",
       "      <td>2020-05</td>\n",
       "    </tr>\n",
       "  </tbody>\n",
       "</table>\n",
       "</div>"
      ],
      "text/plain": [
       "     id  amount    status                       created_at  \\\n",
       "0     5   100.0  rejected 2019-12-10 19:05:21.596873+00:00   \n",
       "1    70   100.0  rejected 2019-12-10 19:50:12.347780+00:00   \n",
       "2     7   100.0  rejected 2019-12-10 19:13:35.825460+00:00   \n",
       "3    10    99.0  rejected 2019-12-10 19:16:10.880172+00:00   \n",
       "4  1594   100.0  rejected 2020-05-06 09:59:38.877376+00:00   \n",
       "\n",
       "                        updated_at  user_id                     moderated_at  \\\n",
       "0 2019-12-11 16:47:42.407830+00:00    804.0 2019-12-11 16:47:42.405646+00:00   \n",
       "1 2019-12-11 14:24:22.900054+00:00    231.0 2019-12-11 14:24:22.897988+00:00   \n",
       "2 2019-12-11 09:46:59.779773+00:00    191.0 2019-12-11 09:46:59.777728+00:00   \n",
       "3 2019-12-18 14:26:18.136163+00:00    761.0 2019-12-18 14:26:18.128407+00:00   \n",
       "4 2020-05-07 09:21:55.340080+00:00   7686.0 2020-05-07 09:21:55.320193+00:00   \n",
       "\n",
       "   deleted_account_id               reimbursement_date  \\\n",
       "0                 NaN 2020-01-09 19:05:21.596363+00:00   \n",
       "1                 NaN 2020-01-09 19:50:12.347780+00:00   \n",
       "2                 NaN 2020-01-09 19:13:35.825041+00:00   \n",
       "3                 NaN 2020-01-09 19:16:10.879606+00:00   \n",
       "4                 NaN                              NaT   \n",
       "\n",
       "  cash_request_received_date money_back_date transfer_type send_at  \\\n",
       "0                        NaT             NaT       regular     NaT   \n",
       "1                        NaT             NaT       regular     NaT   \n",
       "2                        NaT             NaT       regular     NaT   \n",
       "3                        NaT             NaT       regular     NaT   \n",
       "4                        NaT             NaT       regular     NaT   \n",
       "\n",
       "  recovery_status reco_creation reco_last_update  identifier  \\\n",
       "0             NaN           NaT              NaT       804.0   \n",
       "1             NaN           NaT              NaT       231.0   \n",
       "2             NaN           NaT              NaT       191.0   \n",
       "3             NaN           NaT              NaT       761.0   \n",
       "4             NaN           NaT              NaT      7686.0   \n",
       "\n",
       "  first_cash_request cohort_month  \n",
       "0            2019-12      2019-12  \n",
       "1            2019-12      2019-12  \n",
       "2            2019-12      2019-12  \n",
       "3            2019-12      2019-12  \n",
       "4            2020-05      2020-05  "
      ]
     },
     "metadata": {},
     "output_type": "display_data"
    },
    {
     "name": "stdout",
     "output_type": "stream",
     "text": [
      "23970\n",
      "23970\n"
     ]
    }
   ],
   "source": [
    "cash2 = cash_request_df.copy()\n",
    "# Convert 'created_at' to datetime\n",
    "# cash2['created_at'] = pd.to_datetime(cash2['created_at'])\n",
    "\n",
    "# Create a unified identifier that includes both 'user_id' and 'deleted_account_id'\n",
    "cash2['identifier'] = cash2['user_id'].combine_first(cash2['deleted_account_id'])\n",
    "\n",
    "# Identify the first cash request date for each identifier\n",
    "cash2['first_cash_request'] = cash2.groupby('identifier')['created_at'].transform('min')\n",
    "\n",
    "\n",
    "cash2['first_cash_request'] = cash2['first_cash_request'].dt.to_period('M')\n",
    "\n",
    "# Assign users to cohorts based on the first cash request date\n",
    "cash2['cohort_month'] = cash2['first_cash_request']\n",
    "\n",
    "# Filter the data to include only the first appearance of each identifier\n",
    "first_appearance = cash2[cash2['created_at'] == cash2['first_cash_request']]\n",
    "\n",
    "# Display the cohort sizes\n",
    "cohort_sizes = first_appearance.groupby('cohort_month')['identifier'].nunique()\n",
    "\n",
    "display(cash2['cohort_month'].value_counts())\n",
    "display(cash2.head())\n",
    "print(len(cash2))\n",
    "print(len(cash_request_df))"
   ]
  },
  {
   "cell_type": "markdown",
   "metadata": {},
   "source": [
    "Explanation:\n",
    "\n",
    "* dt.to_period('M'): This converts the cash_request_received_date to a period, grouping the users based on the month and year of their first cash request.\n",
    "\n",
    "* This will create a new column cohort_month in cash_request_df that indicates the cohort each user belongs to."
   ]
  },
  {
   "cell_type": "code",
   "execution_count": 32,
   "metadata": {},
   "outputs": [
    {
     "name": "stdout",
     "output_type": "stream",
     "text": [
      "   user_id cash_request_received_date cohort_month\n",
      "0    804.0                        NaT      2019-12\n",
      "1    231.0                        NaT      2019-12\n",
      "2    191.0                        NaT      2019-12\n",
      "3    761.0                        NaT      2019-12\n",
      "4   7686.0                        NaT      2020-05\n"
     ]
    }
   ],
   "source": [
    "# Display the first few rows showing user_id, cash_request_received_date, and the assigned cohort_month\n",
    "print(cash2[['user_id', 'cash_request_received_date', 'cohort_month']].head())"
   ]
  },
  {
   "cell_type": "markdown",
   "metadata": {},
   "source": [
    "Explanation:\n",
    "\n",
    "* This code shows the first few rows of the columns user_id, cash_request_received_date, and cohort_month to verify that users have been correctly assigned to cohorts based on the month of their first cash request.\n",
    "\n",
    "    * user_id: The unique identifier for each user.\n",
    "\n",
    "    * cash_request_received_date: The date when each user made their first cash request.\n",
    "\n",
    "    * cohort_month: The cohort that the user belongs to, based on the month and year of their first cash request."
   ]
  },
  {
   "cell_type": "code",
   "execution_count": 33,
   "metadata": {},
   "outputs": [
    {
     "name": "stdout",
     "output_type": "stream",
     "text": [
      "cohort_month  2019-11  2019-12  2020-01  2020-02  2020-03  2020-04  2020-05  \\\n",
      "user_id                                                                       \n",
      "34.0                0        0        0        0        0        1        0   \n",
      "35.0                0        7        0        0        0        0        0   \n",
      "47.0                8        0        0        0        0        0        0   \n",
      "52.0                0        4        0        0        0        0        0   \n",
      "53.0                0        4        0        0        0        0        0   \n",
      "\n",
      "cohort_month  2020-06  2020-07  2020-08  2020-09  2020-10  2020-11  \n",
      "user_id                                                             \n",
      "34.0                0        0        0        0        0        0  \n",
      "35.0                0        0        0        0        0        0  \n",
      "47.0                0        0        0        0        0        0  \n",
      "52.0                0        0        0        0        0        0  \n",
      "53.0                0        0        0        0        0        0  \n"
     ]
    }
   ],
   "source": [
    "# Group by cohort_month and user_id, then count the number of requests made by each user\n",
    "cohort_usage = cash2.groupby(['cohort_month', 'user_id']).size().unstack(fill_value=0)\n",
    "\n",
    "# Transpose to see cohorts as rows\n",
    "cohort_usage = cohort_usage.T\n",
    "\n",
    "# Display the frequency of service usage for each cohort\n",
    "print(cohort_usage.head())"
   ]
  },
  {
   "cell_type": "markdown",
   "metadata": {},
   "source": [
    "Explanation of Output:\n",
    "\n",
    "* Rows: Each row corresponds to a user (identified by user_id).\n",
    "Columns: Each column corresponds to a cohort month (e.g., 2020-01, 2020-02, etc.).\n",
    "\n",
    "* Values: The values in the table represent the number of requests made by each user in each cohort. "
   ]
  },
  {
   "cell_type": "markdown",
   "metadata": {},
   "source": [
    "### Charts"
   ]
  },
  {
   "cell_type": "markdown",
   "metadata": {},
   "source": [
    "#### Frequency of service usage\n",
    "*Understand how often users from each cohort utilize IronHack Payments' cash advance services over time.*\n",
    "\n",
    "For easier visualization of the previous summary, we created a chart. Here, we can identify more rapidly that users of the *2020-06* cohort were the users that most frequently utilized the service. "
   ]
  },
  {
   "cell_type": "code",
   "execution_count": 34,
   "metadata": {},
   "outputs": [
    {
     "name": "stderr",
     "output_type": "stream",
     "text": [
      "C:\\Users\\Natanael\\AppData\\Local\\Temp\\ipykernel_14368\\2536572470.py:8: FutureWarning: \n",
      "\n",
      "Passing `palette` without assigning `hue` is deprecated and will be removed in v0.14.0. Assign the `x` variable to `hue` and set `legend=False` for the same effect.\n",
      "\n",
      "  sns.barplot(data=cohort_counts, x='cohort_month', y='count', palette='viridis')\n"
     ]
    },
    {
     "data": {
      "image/png": "[encoded data removed]",
      "text/plain": [
       "<Figure size 1200x600 with 1 Axes>"
      ]
     },
     "metadata": {},
     "output_type": "display_data"
    }
   ],
   "source": [
    "cohort_counts = cash2.groupby(\"cohort_month\")[\"created_at\"].count().reset_index()\n",
    "\n",
    "# Rename columns for clarity\n",
    "cohort_counts.columns = ['cohort_month', 'count']\n",
    "\n",
    "# Create the bar chart\n",
    "plt.figure(figsize=(12, 6))\n",
    "sns.barplot(data=cohort_counts, x='cohort_month', y='count', palette='viridis')\n",
    "plt.xlabel('Cohort')\n",
    "plt.ylabel('Number of Cash Requests')\n",
    "plt.title('Number of Cash Requests per Cohort')\n",
    "plt.xticks(rotation=45)\n",
    "plt.show()"
   ]
  },
  {
   "cell_type": "markdown",
   "metadata": {},
   "source": [
    "Graph Analysis:\n",
    "\n",
    "* Early Cohorts (2019-12 to 2020-05):\n",
    "\n",
    "    * The graph shows low service usage in the initial months, indicating that the service was likely new or had limited adoption. These cohorts represent a small group of users who started using the service during these early periods, possibly due to limited awareness or availability.\n",
    "\n",
    "* Sudden Growth in June 2020:\n",
    "\n",
    "    * There is a sharp rise in June 2020, showing a substantial increase in service usage. This indicates a rapid expansion in user engagement or demand for the service, likely due to factors such as increased marketing, better brand recognition, or growing market acceptance.\n",
    "\n",
    "* Other peak in October 2020:\n",
    "\n",
    "    * The peak in October 2020 represents a high level of activity across the cohorts. This could indicate that the service reached its maximum usage during this period, which may have been driven by successful promotional campaigns, word-of-mouth, or significant demand spikes.\n",
    "\n",
    "* Decline in November 2020:\n",
    "\n",
    "    * The sharp drop in service usage in November 2020 could suggest a seasonal decline, market saturation, or changes in user behavior (e.g., users not needing the service as frequently). This could also be influenced by external events such as economic factors or changes in the service offering.\n",
    "\n",
    "Key Insights:\n",
    "\n",
    "* Service Adoption: The steady increase in service usage from June 2020 onward shows that users are becoming more engaged with the service over time. This suggests positive growth for the company in terms of user base and usage frequency.\n",
    "\n",
    "* Cohort Engagement: Later cohorts are far more active than earlier cohorts, which could be a sign that the service has been optimized or better suited to user needs as time progresses.\n",
    "\n",
    "* Potential Seasonality: The drop in November 2020 raises questions about whether this is due to seasonal factors or temporary market conditions."
   ]
  },
  {
   "cell_type": "markdown",
   "metadata": {},
   "source": [
    "#### Incident Rate\n",
    "*Determine the incident rate, specifically focusing on payment incidents, for each cohort. Identify if there are variations in incident rates among different cohorts.*\n",
    "\n",
    "For identifying the incident rate, the `recovery_status` column from `cash2` was used. We counted the number of incidents per cohort and put them in a table-like format."
   ]
  },
  {
   "cell_type": "code",
   "execution_count": 35,
   "metadata": {},
   "outputs": [
    {
     "data": {
      "text/plain": [
       "cohort_month\n",
       "2019-11      0\n",
       "2019-12    130\n",
       "2020-01     36\n",
       "2020-02     37\n",
       "2020-03     44\n",
       "2020-04    143\n",
       "2020-05    232\n",
       "2020-06    655\n",
       "2020-07    536\n",
       "2020-08    170\n",
       "2020-09    450\n",
       "2020-10    884\n",
       "2020-11     13\n",
       "Freq: M, Name: recovery_status, dtype: int64"
      ]
     },
     "execution_count": 35,
     "metadata": {},
     "output_type": "execute_result"
    }
   ],
   "source": [
    "cash2.groupby(\"cohort_month\")[\"recovery_status\"].count()"
   ]
  },
  {
   "cell_type": "markdown",
   "metadata": {},
   "source": [
    "But for easier visualization, we created a chart. We can observe that most issues occured to people from the `2020-10` cohort. "
   ]
  },
  {
   "cell_type": "code",
   "execution_count": 36,
   "metadata": {},
   "outputs": [
    {
     "name": "stderr",
     "output_type": "stream",
     "text": [
      "C:\\Users\\Natanael\\AppData\\Local\\Temp\\ipykernel_14368\\1850336863.py:8: FutureWarning: \n",
      "\n",
      "Passing `palette` without assigning `hue` is deprecated and will be removed in v0.14.0. Assign the `x` variable to `hue` and set `legend=False` for the same effect.\n",
      "\n",
      "  sns.barplot(data=recovery_status_counts, x='cohort_month', y='count', palette='viridis')\n"
     ]
    },
    {
     "data": {
      "image/png": "[encoded data removed]",
      "text/plain": [
       "<Figure size 1200x600 with 1 Axes>"
      ]
     },
     "metadata": {},
     "output_type": "display_data"
    }
   ],
   "source": [
    "recovery_status_counts = cash2.groupby(\"cohort_month\")[\"recovery_status\"].count().reset_index()\n",
    "\n",
    "# Rename columns for clarity\n",
    "recovery_status_counts.columns = ['cohort_month', 'count']\n",
    "\n",
    "# Create the bar chart\n",
    "plt.figure(figsize=(12, 6))\n",
    "sns.barplot(data=recovery_status_counts, x='cohort_month', y='count', palette='viridis')\n",
    "plt.xlabel('Cohort')\n",
    "plt.ylabel('Number of Recovery Status Issues')\n",
    "plt.title('Number of Recovery Status Issues per Cohort')\n",
    "plt.xticks(rotation=45)\n",
    "plt.show()"
   ]
  },
  {
   "cell_type": "markdown",
   "metadata": {},
   "source": [
    "In this chart we cannot visualize the types of error per cohort. We put them in a table and made a chart for it too. "
   ]
  },
  {
   "cell_type": "code",
   "execution_count": 37,
   "metadata": {},
   "outputs": [
    {
     "data": {
      "text/plain": [
       "cohort_month  recovery_status     \n",
       "2019-12       completed                88\n",
       "              pending                  40\n",
       "              pending_direct_debit      2\n",
       "2020-01       completed                25\n",
       "              pending                  11\n",
       "2020-02       completed                28\n",
       "              pending                   9\n",
       "2020-03       completed                40\n",
       "              pending                   4\n",
       "2020-04       completed               108\n",
       "              pending                  34\n",
       "              pending_direct_debit      1\n",
       "2020-05       completed               192\n",
       "              pending                  40\n",
       "2020-06       completed               523\n",
       "              pending                 131\n",
       "              pending_direct_debit      1\n",
       "2020-07       completed               387\n",
       "              pending                 147\n",
       "              pending_direct_debit      2\n",
       "2020-08       completed               123\n",
       "              pending                  45\n",
       "              pending_direct_debit      2\n",
       "2020-09       completed               326\n",
       "              pending                 119\n",
       "              pending_direct_debit      5\n",
       "2020-10       completed               618\n",
       "              pending                 262\n",
       "              pending_direct_debit      3\n",
       "              cancelled                 1\n",
       "2020-11       completed                10\n",
       "              pending                   3\n",
       "Name: count, dtype: int64"
      ]
     },
     "execution_count": 37,
     "metadata": {},
     "output_type": "execute_result"
    }
   ],
   "source": [
    "cash2.groupby(\"cohort_month\")[\"recovery_status\"].value_counts()"
   ]
  },
  {
   "cell_type": "code",
   "execution_count": 38,
   "metadata": {},
   "outputs": [
    {
     "data": {
      "image/png": "[encoded data removed]",
      "text/plain": [
       "<Figure size 1400x800 with 1 Axes>"
      ]
     },
     "metadata": {},
     "output_type": "display_data"
    }
   ],
   "source": [
    "recovery_status_counts = cash2.groupby([\"cohort_month\", \"recovery_status\"]).size().reset_index(name='count')\n",
    "\n",
    "# Create the grouped bar chart\n",
    "plt.figure(figsize=(14, 8))\n",
    "sns.barplot(data=recovery_status_counts, x='cohort_month', y='count', hue='recovery_status', palette='viridis')\n",
    "plt.xlabel('Cohort')\n",
    "plt.ylabel('Count of Recovery Status')\n",
    "plt.title('Recovery Status Counts by Cohort')\n",
    "plt.xticks(rotation=45)\n",
    "plt.legend(title='Recovery Status')\n",
    "plt.show()"
   ]
  },
  {
   "cell_type": "markdown",
   "metadata": {},
   "source": [
    "Now, we show the incidents as rates in a table and also as in a barchart: "
   ]
  },
  {
   "cell_type": "code",
   "execution_count": 39,
   "metadata": {},
   "outputs": [
    {
     "name": "stdout",
     "output_type": "stream",
     "text": [
      "cohort_month\n",
      "2019-11    0.000000\n",
      "2019-12    0.120370\n",
      "2020-01    0.101695\n",
      "2020-02    0.083900\n",
      "2020-03    0.118598\n",
      "2020-04    0.150210\n",
      "2020-05    0.139759\n",
      "2020-06    0.124383\n",
      "2020-07    0.129250\n",
      "2020-08    0.104167\n",
      "2020-09    0.153846\n",
      "2020-10    0.174773\n",
      "2020-11    0.171053\n",
      "Freq: M, Name: created_at, dtype: float64\n"
     ]
    },
    {
     "name": "stderr",
     "output_type": "stream",
     "text": [
      "C:\\Users\\Natanael\\AppData\\Local\\Temp\\ipykernel_14368\\2899950891.py:21: FutureWarning: \n",
      "\n",
      "Passing `palette` without assigning `hue` is deprecated and will be removed in v0.14.0. Assign the `x` variable to `hue` and set `legend=False` for the same effect.\n",
      "\n",
      "  sns.barplot(data=incident_rate_df, x='cohort_month', y='incident_rate', palette='viridis')\n"
     ]
    },
    {
     "data": {
      "image/png": "[encoded data removed]",
      "text/plain": [
       "<Figure size 1200x600 with 1 Axes>"
      ]
     },
     "metadata": {},
     "output_type": "display_data"
    }
   ],
   "source": [
    "# Identify payment incidents (e.g., recovery_status being 'pending', 'pending_direct_debit', or 'completed')\n",
    "payment_incidents = cash2[cash2['recovery_status'].isin(['pending', 'pending_direct_debit', 'completed', 'cancelled'])]\n",
    "\n",
    "# Count total requests per cohort\n",
    "total_requests_per_cohort = cash2.groupby('cohort_month')['created_at'].count()\n",
    "\n",
    "# Count payment incidents per cohort\n",
    "incidents_per_cohort = payment_incidents.groupby('cohort_month')['created_at'].count()\n",
    "\n",
    "# Calculate incident rate per cohort\n",
    "incident_rate_per_cohort = (incidents_per_cohort / total_requests_per_cohort).fillna(0)\n",
    "\n",
    "# Display the incident rate per cohort\n",
    "print(incident_rate_per_cohort)\n",
    "\n",
    "# Plot the incident rate per cohort\n",
    "incident_rate_df = incident_rate_per_cohort.reset_index()\n",
    "incident_rate_df.columns = ['cohort_month', 'incident_rate']\n",
    "\n",
    "plt.figure(figsize=(12, 6))\n",
    "sns.barplot(data=incident_rate_df, x='cohort_month', y='incident_rate', palette='viridis')\n",
    "plt.xlabel('Cohort')\n",
    "plt.ylabel('Incident Rate')\n",
    "plt.title('Incident Rate per Cohort')\n",
    "plt.xticks(rotation=45)\n",
    "plt.show()"
   ]
  },
  {
   "cell_type": "markdown",
   "metadata": {},
   "source": [
    "From every chart, we observe that most issues were on the `2020-10` cohort. "
   ]
  },
  {
   "cell_type": "markdown",
   "metadata": {},
   "source": [
    "#### Revenue generated by the cohorts\n",
    "*Calculate the total revenue generated by each cohort over months to assess the financial impact of user behavior.*\n",
    "\n",
    "After merging the fees and cash requests tables, we can calculate the total fees for each cohort."
   ]
  },
  {
   "cell_type": "code",
   "execution_count": 40,
   "metadata": {},
   "outputs": [
    {
     "name": "stdout",
     "output_type": "stream",
     "text": [
      "Index(['id_x', 'cash_request_id', 'type', 'status_x', 'category',\n",
      "       'total_amount', 'reason', 'created_at_x', 'updated_at_x', 'paid_at',\n",
      "       'from_date', 'to_date', 'charge_moment', 'id_y', 'amount', 'status_y',\n",
      "       'created_at_y', 'updated_at_y', 'user_id', 'moderated_at',\n",
      "       'deleted_account_id', 'reimbursement_date',\n",
      "       'cash_request_received_date', 'money_back_date', 'transfer_type',\n",
      "       'send_at', 'recovery_status', 'reco_creation', 'reco_last_update',\n",
      "       'identifier', 'first_cash_request', 'cohort_month'],\n",
      "      dtype='object')\n"
     ]
    },
    {
     "data": {
      "text/html": [
       "<div>\n",
       "<style scoped>\n",
       "    .dataframe tbody tr th:only-of-type {\n",
       "        vertical-align: middle;\n",
       "    }\n",
       "\n",
       "    .dataframe tbody tr th {\n",
       "        vertical-align: top;\n",
       "    }\n",
       "\n",
       "    .dataframe thead th {\n",
       "        text-align: right;\n",
       "    }\n",
       "</style>\n",
       "<table border=\"1\" class=\"dataframe\">\n",
       "  <thead>\n",
       "    <tr style=\"text-align: right;\">\n",
       "      <th></th>\n",
       "      <th>id_x</th>\n",
       "      <th>cash_request_id</th>\n",
       "      <th>type</th>\n",
       "      <th>status_x</th>\n",
       "      <th>category</th>\n",
       "      <th>total_amount</th>\n",
       "      <th>reason</th>\n",
       "      <th>created_at_x</th>\n",
       "      <th>updated_at_x</th>\n",
       "      <th>paid_at</th>\n",
       "      <th>...</th>\n",
       "      <th>cash_request_received_date</th>\n",
       "      <th>money_back_date</th>\n",
       "      <th>transfer_type</th>\n",
       "      <th>send_at</th>\n",
       "      <th>recovery_status</th>\n",
       "      <th>reco_creation</th>\n",
       "      <th>reco_last_update</th>\n",
       "      <th>identifier</th>\n",
       "      <th>first_cash_request</th>\n",
       "      <th>cohort_month</th>\n",
       "    </tr>\n",
       "  </thead>\n",
       "  <tbody>\n",
       "    <tr>\n",
       "      <th>0</th>\n",
       "      <td>6537</td>\n",
       "      <td>14941.0</td>\n",
       "      <td>instant_payment</td>\n",
       "      <td>rejected</td>\n",
       "      <td>Unknown</td>\n",
       "      <td>5.0</td>\n",
       "      <td>Instant Payment Cash Request 14941</td>\n",
       "      <td>2020-09-07 10:47:27.423150+00:00</td>\n",
       "      <td>2020-10-13 14:25:09.396112+00:00</td>\n",
       "      <td>2020-12-17 14:50:07.470110+00:00</td>\n",
       "      <td>...</td>\n",
       "      <td>NaT</td>\n",
       "      <td>NaT</td>\n",
       "      <td>instant</td>\n",
       "      <td>2020-09-14 10:46:57.735172+00:00</td>\n",
       "      <td>pending</td>\n",
       "      <td>2020-10-11 22:52:52.274832+00:00</td>\n",
       "      <td>2020-12-20 22:40:42.556534+00:00</td>\n",
       "      <td>35661.0</td>\n",
       "      <td>2020-09</td>\n",
       "      <td>2020-09</td>\n",
       "    </tr>\n",
       "    <tr>\n",
       "      <th>1</th>\n",
       "      <td>6961</td>\n",
       "      <td>11714.0</td>\n",
       "      <td>incident</td>\n",
       "      <td>accepted</td>\n",
       "      <td>rejected_direct_debit</td>\n",
       "      <td>5.0</td>\n",
       "      <td>rejected direct debit</td>\n",
       "      <td>2020-09-09 20:51:17.998653+00:00</td>\n",
       "      <td>2020-10-13 14:25:15.537063+00:00</td>\n",
       "      <td>2020-12-08 17:13:10.459080+00:00</td>\n",
       "      <td>...</td>\n",
       "      <td>2020-08-12</td>\n",
       "      <td>2020-12-02 03:02:41.180953+00:00</td>\n",
       "      <td>instant</td>\n",
       "      <td>2020-08-17 13:15:54.290998+00:00</td>\n",
       "      <td>completed</td>\n",
       "      <td>2020-09-09 20:51:17.992852+00:00</td>\n",
       "      <td>2020-10-10 22:58:13.306027+00:00</td>\n",
       "      <td>16158.0</td>\n",
       "      <td>2020-06</td>\n",
       "      <td>2020-06</td>\n",
       "    </tr>\n",
       "    <tr>\n",
       "      <th>2</th>\n",
       "      <td>16296</td>\n",
       "      <td>23371.0</td>\n",
       "      <td>instant_payment</td>\n",
       "      <td>accepted</td>\n",
       "      <td>Unknown</td>\n",
       "      <td>5.0</td>\n",
       "      <td>Instant Payment Cash Request 23371</td>\n",
       "      <td>2020-10-23 10:10:58.352972+00:00</td>\n",
       "      <td>2020-10-23 10:10:58.352994+00:00</td>\n",
       "      <td>2020-11-04 19:34:37.432910+00:00</td>\n",
       "      <td>...</td>\n",
       "      <td>2020-10-27</td>\n",
       "      <td>2020-11-04 19:34:37.399122+00:00</td>\n",
       "      <td>instant</td>\n",
       "      <td>2020-10-23 10:10:52.894637+00:00</td>\n",
       "      <td>NaN</td>\n",
       "      <td>NaT</td>\n",
       "      <td>NaT</td>\n",
       "      <td>81575.0</td>\n",
       "      <td>2020-10</td>\n",
       "      <td>2020-10</td>\n",
       "    </tr>\n",
       "    <tr>\n",
       "      <th>3</th>\n",
       "      <td>20775</td>\n",
       "      <td>26772.0</td>\n",
       "      <td>instant_payment</td>\n",
       "      <td>accepted</td>\n",
       "      <td>Unknown</td>\n",
       "      <td>5.0</td>\n",
       "      <td>Instant Payment Cash Request 26772</td>\n",
       "      <td>2020-10-31 15:46:53.643958+00:00</td>\n",
       "      <td>2020-10-31 15:46:53.643982+00:00</td>\n",
       "      <td>2020-11-19 05:09:22.500223+00:00</td>\n",
       "      <td>...</td>\n",
       "      <td>2020-11-03</td>\n",
       "      <td>NaT</td>\n",
       "      <td>instant</td>\n",
       "      <td>2020-10-31 15:46:46.846335+00:00</td>\n",
       "      <td>NaN</td>\n",
       "      <td>NaT</td>\n",
       "      <td>NaT</td>\n",
       "      <td>94393.0</td>\n",
       "      <td>2020-10</td>\n",
       "      <td>2020-10</td>\n",
       "    </tr>\n",
       "    <tr>\n",
       "      <th>4</th>\n",
       "      <td>11242</td>\n",
       "      <td>19350.0</td>\n",
       "      <td>instant_payment</td>\n",
       "      <td>accepted</td>\n",
       "      <td>Unknown</td>\n",
       "      <td>5.0</td>\n",
       "      <td>Instant Payment Cash Request 19350</td>\n",
       "      <td>2020-10-06 08:20:17.170432+00:00</td>\n",
       "      <td>2020-10-13 14:25:03.267983+00:00</td>\n",
       "      <td>2020-11-02 14:45:20.355598+00:00</td>\n",
       "      <td>...</td>\n",
       "      <td>2020-10-09</td>\n",
       "      <td>2020-11-02 14:45:20.315696+00:00</td>\n",
       "      <td>instant</td>\n",
       "      <td>2020-10-13 00:40:23.983346+00:00</td>\n",
       "      <td>completed</td>\n",
       "      <td>2020-10-24 22:43:13.278707+00:00</td>\n",
       "      <td>2020-11-02 14:45:20.333109+00:00</td>\n",
       "      <td>19005.0</td>\n",
       "      <td>2020-06</td>\n",
       "      <td>2020-06</td>\n",
       "    </tr>\n",
       "  </tbody>\n",
       "</table>\n",
       "<p>5 rows × 32 columns</p>\n",
       "</div>"
      ],
      "text/plain": [
       "    id_x  cash_request_id             type  status_x               category  \\\n",
       "0   6537          14941.0  instant_payment  rejected                Unknown   \n",
       "1   6961          11714.0         incident  accepted  rejected_direct_debit   \n",
       "2  16296          23371.0  instant_payment  accepted                Unknown   \n",
       "3  20775          26772.0  instant_payment  accepted                Unknown   \n",
       "4  11242          19350.0  instant_payment  accepted                Unknown   \n",
       "\n",
       "   total_amount                              reason  \\\n",
       "0           5.0  Instant Payment Cash Request 14941   \n",
       "1           5.0               rejected direct debit   \n",
       "2           5.0  Instant Payment Cash Request 23371   \n",
       "3           5.0  Instant Payment Cash Request 26772   \n",
       "4           5.0  Instant Payment Cash Request 19350   \n",
       "\n",
       "                      created_at_x                     updated_at_x  \\\n",
       "0 2020-09-07 10:47:27.423150+00:00 2020-10-13 14:25:09.396112+00:00   \n",
       "1 2020-09-09 20:51:17.998653+00:00 2020-10-13 14:25:15.537063+00:00   \n",
       "2 2020-10-23 10:10:58.352972+00:00 2020-10-23 10:10:58.352994+00:00   \n",
       "3 2020-10-31 15:46:53.643958+00:00 2020-10-31 15:46:53.643982+00:00   \n",
       "4 2020-10-06 08:20:17.170432+00:00 2020-10-13 14:25:03.267983+00:00   \n",
       "\n",
       "                           paid_at  ... cash_request_received_date  \\\n",
       "0 2020-12-17 14:50:07.470110+00:00  ...                        NaT   \n",
       "1 2020-12-08 17:13:10.459080+00:00  ...                 2020-08-12   \n",
       "2 2020-11-04 19:34:37.432910+00:00  ...                 2020-10-27   \n",
       "3 2020-11-19 05:09:22.500223+00:00  ...                 2020-11-03   \n",
       "4 2020-11-02 14:45:20.355598+00:00  ...                 2020-10-09   \n",
       "\n",
       "                   money_back_date transfer_type  \\\n",
       "0                              NaT       instant   \n",
       "1 2020-12-02 03:02:41.180953+00:00       instant   \n",
       "2 2020-11-04 19:34:37.399122+00:00       instant   \n",
       "3                              NaT       instant   \n",
       "4 2020-11-02 14:45:20.315696+00:00       instant   \n",
       "\n",
       "                           send_at  recovery_status  \\\n",
       "0 2020-09-14 10:46:57.735172+00:00          pending   \n",
       "1 2020-08-17 13:15:54.290998+00:00        completed   \n",
       "2 2020-10-23 10:10:52.894637+00:00              NaN   \n",
       "3 2020-10-31 15:46:46.846335+00:00              NaN   \n",
       "4 2020-10-13 00:40:23.983346+00:00        completed   \n",
       "\n",
       "                     reco_creation                 reco_last_update  \\\n",
       "0 2020-10-11 22:52:52.274832+00:00 2020-12-20 22:40:42.556534+00:00   \n",
       "1 2020-09-09 20:51:17.992852+00:00 2020-10-10 22:58:13.306027+00:00   \n",
       "2                              NaT                              NaT   \n",
       "3                              NaT                              NaT   \n",
       "4 2020-10-24 22:43:13.278707+00:00 2020-11-02 14:45:20.333109+00:00   \n",
       "\n",
       "  identifier  first_cash_request cohort_month  \n",
       "0    35661.0             2020-09      2020-09  \n",
       "1    16158.0             2020-06      2020-06  \n",
       "2    81575.0             2020-10      2020-10  \n",
       "3    94393.0             2020-10      2020-10  \n",
       "4    19005.0             2020-06      2020-06  \n",
       "\n",
       "[5 rows x 32 columns]"
      ]
     },
     "execution_count": 40,
     "metadata": {},
     "output_type": "execute_result"
    }
   ],
   "source": [
    "table = fees_df.merge(cash2, left_on=\"cash_request_id\", right_on=\"id\" , how=\"inner\")\n",
    "print(table.columns)\n",
    "\n",
    "table.head()"
   ]
  },
  {
   "cell_type": "markdown",
   "metadata": {},
   "source": [
    "Definition of Revenue Generated:\n",
    "\n",
    "Revenue in this context is the total amount of fees collected by IronHack Payments from all fee types associated with cash requests over time. The fee types that contribute to the generated revenue include:\n",
    "\n",
    "1. Instant Payment Fees:\n",
    "\n",
    "These fees are associated with cash requests that are processed immediately and involve SEPA Instant Payment.\n",
    "\n",
    "2. Split Payment Fees:\n",
    "\n",
    "These are future fees generated when users opt to split the reimbursement into installments.\n",
    "\n",
    "3. Incident Fees (Payment Incidents):\n",
    "\n",
    "These fees are generated when a direct debit fails (rejected direct debit), and they are classified as incident fees in the dataset. This category directly reflects revenue from payment failures.\n",
    "\n",
    "4. Postpone Fees:\n",
    "\n",
    "Fees are applied when a user delays their reimbursement date for a cash request.\n",
    "\n",
    "Thus, generated revenue is the sum of total_amount for all fee types (instant_payment, split_payment, incident, and postpone) for each cohort of users."
   ]
  },
  {
   "cell_type": "markdown",
   "metadata": {},
   "source": [
    "A barchart shows indicates that most fees were charged in the `2020-10` cohort. "
   ]
  },
  {
   "cell_type": "code",
   "execution_count": 41,
   "metadata": {},
   "outputs": [
    {
     "data": {
      "text/plain": [
       "cohort_month\n",
       "2019-11       50.0\n",
       "2020-11      335.0\n",
       "2020-01      655.0\n",
       "2020-03      870.0\n",
       "2020-02      965.0\n",
       "2019-12     1555.0\n",
       "2020-04     2565.0\n",
       "2020-05     5930.0\n",
       "2020-08     7095.0\n",
       "2020-09    16100.0\n",
       "2020-07    17175.0\n",
       "2020-06    22495.0\n",
       "2020-10    29500.0\n",
       "Freq: M, Name: total_amount, dtype: float64"
      ]
     },
     "metadata": {},
     "output_type": "display_data"
    },
    {
     "name": "stderr",
     "output_type": "stream",
     "text": [
      "C:\\Users\\Natanael\\AppData\\Local\\Temp\\ipykernel_14368\\1262679093.py:10: FutureWarning: \n",
      "\n",
      "Passing `palette` without assigning `hue` is deprecated and will be removed in v0.14.0. Assign the `x` variable to `hue` and set `legend=False` for the same effect.\n",
      "\n",
      "  sns.barplot(data=fees_by_cohort, x='cohort_month', y='total_amount', palette='viridis')\n"
     ]
    },
    {
     "data": {
      "image/png": "[encoded data removed]",
      "text/plain": [
       "<Figure size 1200x600 with 1 Axes>"
      ]
     },
     "metadata": {},
     "output_type": "display_data"
    }
   ],
   "source": [
    "display(table.groupby(\"cohort_month\")[\"total_amount\"].sum().sort_values())\n",
    "\n",
    "fees_by_cohort = table.groupby(\"cohort_month\")[\"total_amount\"].sum().reset_index()\n",
    "\n",
    "# Sort the values for better visualization\n",
    "# fees_by_cohort = fees_by_cohort.sort_values(by=\"total_amount\")\n",
    "\n",
    "# Create the bar chart\n",
    "plt.figure(figsize=(12, 6))\n",
    "sns.barplot(data=fees_by_cohort, x='cohort_month', y='total_amount', palette='viridis')\n",
    "plt.xlabel('Cohort')\n",
    "plt.ylabel('Total Fees Charged')\n",
    "plt.title('Total Fees Charged per Cohort')\n",
    "plt.xticks(rotation=45)\n",
    "plt.show()"
   ]
  },
  {
   "cell_type": "markdown",
   "metadata": {},
   "source": [
    "Analyzing revenue generated by cohorts over time is crucial for understanding the financial impact of user behavior, especially in subscription-based or recurring revenue business models. By analyzing this in the context of the fees dataset, we can gain insights into how different user groups (cohorts) contribute to the business's financial performance."
   ]
  },
  {
   "cell_type": "markdown",
   "metadata": {},
   "source": [
    "Key Observations:\n",
    "\n",
    "* There was a sharp increase in revenue starting from 2020-06 through 2020-10, with 2020-10 showing the highest revenue.\n",
    "\n",
    "* The increase in revenue suggests that payment incidents, instant payment fees, or other fee types became more frequent starting around mid-2020, which might be worth investigating.\n",
    "\n",
    "* The drop in 2020-11 might indicate fewer incidents or fees charged, or a reduction in cash requests during that period.\n",
    "\n",
    "Insights:\n",
    "\n",
    "* The higher revenue in later cohorts suggests that the company likely faced more payment incidents or more user activity that generated fees during 2020-06 to 2020-10.\n",
    "\n",
    "* The initial low or zero revenue from earlier cohorts (2019-12 to 2020-04) could be due to fewer users or lower fee generation during those months."
   ]
  },
  {
   "cell_type": "markdown",
   "metadata": {},
   "source": [
    "#### New Relevant Metric: \n",
    "**Retention Rate by First Month Use**\n",
    "\n",
    "Retention rate measures how many users from a given cohort continue to use IronHack Payments over time. For this case, we can calculate the retention rate by checking how many users from a cohort make a second, third, or subsequent payment after their initial loan. This will give us insight into how many users return after their first interaction with the service."
   ]
  },
  {
   "cell_type": "code",
   "execution_count": 42,
   "metadata": {},
   "outputs": [
    {
     "name": "stdout",
     "output_type": "stream",
     "text": [
      "  first_use_month  is_retained\n",
      "0         2020-05     0.000000\n",
      "1         2020-06     0.003901\n",
      "2         2020-07     0.133416\n",
      "3         2020-08     0.542923\n",
      "4         2020-09     0.588364\n",
      "5         2020-10     0.606260\n",
      "6         2020-11     0.217228\n"
     ]
    }
   ],
   "source": [
    "df = pd.read_csv(\"project_dataset/extract - fees - data analyst - .csv\")\n",
    "\n",
    "# Step 1: Ensure correct datetime conversion \n",
    "df['paid_at'] = pd.to_datetime(df['paid_at'], errors='coerce')  # Handle any parsing issues in 'paid_at'\n",
    "df['created_at'] = pd.to_datetime(df['created_at'], errors='coerce')  # Handle any parsing issues in 'created_at'\n",
    "\n",
    "# Step 2: Calculate the first payment month for each user\n",
    "# Remove timezone info before converting to Period (to suppress warnings)\n",
    "df['payment_month'] = pd.to_datetime(df['paid_at']).dt.tz_localize(None).dt.to_period('M')\n",
    "\n",
    "# Step 3: Determine the first use month (when the user first interacted with the service)\n",
    "df['first_use_month'] = df.groupby('id')['created_at'].transform('min').dt.tz_localize(None).dt.to_period('M')\n",
    "\n",
    "# Convert to string to ensure no Period objects\n",
    "df['first_use_month'] = df['first_use_month'].astype(str)\n",
    "\n",
    "# Step 4: Calculate the retention metric\n",
    "# A user is considered retained if they paid after their first payment month\n",
    "df['is_retained'] = (df['payment_month'] > df['first_use_month']).astype(int)\n",
    "\n",
    "# Step 5: Group by 'first_use_month' and calculate the retention rate\n",
    "retention_data = df.groupby(['first_use_month'])['is_retained'].mean().reset_index()\n",
    "\n",
    "# Display the retention rate for each cohort\n",
    "print(retention_data[['first_use_month', 'is_retained']])"
   ]
  },
  {
   "cell_type": "markdown",
   "metadata": {},
   "source": [
    "Explanation:\n",
    "1. **Identify First Use Month**: We use groupby('id')['created_at'].transform('min') to identify the first month each user used the service, and store this as first_use_month.\n",
    "2. **Count Payments per User**: We group by id, payment_year, and payment_month to count the number of payments each user made. The size() function gives the count of payments per user per month.\n",
    "3. **Track First Payment Month**: For each user, we track the earliest payment month using groupby('id')[\\'payment_month\\'].transform('min').\n",
    "4. **Identify Retained Users**: We check if the current payment month is after the user's first payment month. If yes, it means the user returned for subsequent payments (and they are retained).\n",
    "5. **Calculate Retention Rate**: We calculate the mean of is_retained for each cohort (first_use_month), which gives the retention rate for each cohort (the proportion of users who returned for at least one subsequent payment).\n",
    "\n",
    "*For better visualization of the data, we turn these values into percentages."
   ]
  },
  {
   "cell_type": "code",
   "execution_count": 43,
   "metadata": {},
   "outputs": [
    {
     "name": "stdout",
     "output_type": "stream",
     "text": [
      "  first_use_month is_retained\n",
      "0         2020-05        0.0%\n",
      "1         2020-06       0.39%\n",
      "2         2020-07      13.34%\n",
      "3         2020-08      54.29%\n",
      "4         2020-09      58.84%\n",
      "5         2020-10      60.63%\n",
      "6         2020-11      21.72%\n"
     ]
    }
   ],
   "source": [
    "# Percentages\n",
    "retention_data['is_retained'] = (retention_data['is_retained'] * 100).round(2).astype(str) + '%'\n",
    "\n",
    "# updated retention rate\n",
    "print(retention_data[['first_use_month', 'is_retained']])"
   ]
  },
  {
   "cell_type": "code",
   "execution_count": 44,
   "metadata": {},
   "outputs": [
    {
     "data": {
      "image/png": "[encoded data removed]",
      "text/plain": [
       "<Figure size 1200x600 with 1 Axes>"
      ]
     },
     "metadata": {},
     "output_type": "display_data"
    }
   ],
   "source": [
    "# Prepare data for plotting (convert retention rates back to numeric for visualization)\n",
    "retention_data['is_retained_numeric'] = retention_data['is_retained'].str.rstrip('%').astype(float)\n",
    "\n",
    "# Plot the bar chart\n",
    "plt.figure(figsize=(12, 6))\n",
    "plt.bar(retention_data['first_use_month'], retention_data['is_retained_numeric'], color='skyblue', edgecolor='black')\n",
    "plt.title('Retention Rate by First Use Month', fontsize=16)\n",
    "plt.xlabel('First Use Month', fontsize=14)\n",
    "plt.ylabel('Retention Rate (%)', fontsize=14)\n",
    "plt.xticks(rotation=45, fontsize=10)\n",
    "plt.grid(axis='y', linestyle='--', alpha=0.7)\n",
    "plt.tight_layout()\n",
    "plt.show()"
   ]
  },
  {
   "cell_type": "markdown",
   "metadata": {},
   "source": [
    "A bar chart is effective for visualizing retention rates by cohort because it emphasizes the differences between cohorts.\n",
    "\n",
    "*Why Is This Data Important?*\n",
    "\n",
    "Retention Analysis: \n",
    "> Understanding user retention helps determine whether users find value in the service after their initial interaction.\n",
    "\n",
    "Cohort Comparison: \n",
    "> By grouping users by their \"first use month,\" you can see how user behavior changes over time and identify trends or problems with specific cohorts.\n",
    "\n",
    "Business Insights: \n",
    "> Low retention may indicate problems with the service, while high retention suggests strong user satisfaction and engagement.\n",
    "\n",
    "Informed Decision-Making: \n",
    "> Retention insights can guide strategies to improve user experience, reduce churn, or target high-value cohorts with marketing."
   ]
  },
  {
   "cell_type": "markdown",
   "metadata": {},
   "source": [
    "## Future Business Recommendations for Ironhack Payments:\n",
    "\n",
    "As a data analyst, after performing the cohort analysis, retention rate analysis, and examining the revenue generated from cohorts, \n",
    "we can provide the company with several key recommendations to optimize business performance. Based on our findings, \n",
    "here are some possible recommendations:\n",
    "\n",
    "1. Improve User Retention Strategies\n",
    "Recommendation: If you observe significant drop-offs in retention over time (e.g., after the first month or after certain cohorts), \n",
    "you could recommend that the company invest in improving user engagement and retention strategies.\n",
    "\n",
    "2. Targeted Marketing for High-Value Cohorts\n",
    "Recommendation: Based on cohort revenue analysis, if certain cohorts generate more revenue over time, the company can increase \n",
    "marketing efforts targeting similar cohorts.\n",
    "\n",
    "3. Address Payment Issues (Incidents)\n",
    "Recommendation: If a significant number of users experience payment issues (failed or pending transactions), it’s crucial to address \n",
    "the payment process to reduce churn and improve revenue.\n",
    "\n",
    "\n"
   ]
  },
  {
   "cell_type": "markdown",
   "metadata": {},
   "source": [
    "### Actionable Steps:\n",
    "\n",
    "1. Improve User Retention Strategies:\n",
    "- Implement targeted email campaigns, in-app messaging, or personalized offers to keep users engaged.\n",
    "- Identify specific touchpoints where users tend to drop off and optimize the user experience around these points (e.g., onboarding process, first payment).\n",
    "- Consider loyalty programs, discounts, or exclusive content for long-term users.\n",
    "                                                            \n",
    "2. Targeted Marketing for High-Value Cohorts\n",
    "- Leverage user acquisition strategies focusing on characteristics of high-value cohorts (e.g., high-paying customers, frequent users).\n",
    "- Expand marketing budgets for channels that perform well with higher-value cohorts.\n",
    "- Use advanced segmentation and personalization to create tailored campaigns for these high-performing groups.\n",
    "                                                                            \n",
    "3. Address Payment Issues (Incidents)\n",
    "- Investigate the root causes of payment incidents and streamline the payment process to reduce friction.\n",
    "- Work with payment processors to ensure smoother transactions, such as better handling of failed payments and offering users alternative payment methods.\n",
    "- Provide better communication and support to users facing payment issues, offering assistance to resolve payment problems quickly.\n",
    "\n"
   ]
  }
 ],
 "metadata": {
  "kernelspec": {
   "display_name": "Python 3 (ipykernel)",
   "language": "python",
   "name": "python3"
  },
  "language_info": {
   "codemirror_mode": {
    "name": "ipython",
    "version": 3
   },
   "file_extension": ".py",
   "mimetype": "text/x-python",
   "name": "python",
   "nbconvert_exporter": "python",
   "pygments_lexer": "ipython3",
   "version": "3.12.7"
  }
 },
 "nbformat": 4,
 "nbformat_minor": 4
}
